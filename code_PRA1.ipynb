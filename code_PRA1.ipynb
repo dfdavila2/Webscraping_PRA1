{
 "cells": [
  {
   "cell_type": "markdown",
   "metadata": {
    "id": "txz3VYQmIDxI"
   },
   "source": [
    "Se realiza el cargue de las librerias que se van a utilizar\n"
   ]
  },
  {
   "cell_type": "code",
   "execution_count": 1,
   "metadata": {
    "id": "sUz3ntQVIJiX"
   },
   "outputs": [],
   "source": [
    "from bs4 import BeautifulSoup\n",
    "import requests\n",
    "import pandas as pd\n",
    "from urllib.parse import urljoin\n",
    "import os    \n",
    "import re\n",
    "from tqdm import tqdm\n",
    "import random\n",
    "from time import sleep\n",
    "import tkinter as tk\n",
    "from tkinter import filedialog\n",
    "from pandas import DataFrame"
   ]
  },
  {
   "cell_type": "markdown",
   "metadata": {
    "id": "WRw_mlk8INvp"
   },
   "source": [
    "Se define la función para extraer robots.txt\n"
   ]
  },
  {
   "cell_type": "code",
   "execution_count": 2,
   "metadata": {
    "id": "gbmk772KIR3q"
   },
   "outputs": [],
   "source": [
    "def obt_robot(siteurl):\n",
    "    if siteurl.endswith('/'):\n",
    "        path=siteurl\n",
    "    else:\n",
    "        path=siteurl+'/'\n",
    "    req=requests.get(path+'robots.txt',data=None)\n",
    "    return req.text"
   ]
  },
  {
   "cell_type": "code",
   "execution_count": 3,
   "metadata": {},
   "outputs": [],
   "source": [
    "text = obt_robot('https://www.soriana.com/')"
   ]
  },
  {
   "cell_type": "code",
   "execution_count": 4,
   "metadata": {
    "scrolled": true
   },
   "outputs": [
    {
     "name": "stdout",
     "output_type": "stream",
     "text": [
      "User-agent: * \n",
      "Allow: /&nbsp; \n",
      "\n",
      " Disallow: /soriana/es/cart \n",
      "Disallow: /soriana/es/checkout \n",
      "Disallow: /soriana/es/my-account \n",
      "Disallow: /combined.css* \n",
      "Disallow: /combined.js* \n",
      "Disallow: /*/quickView \n",
      "Disallow: /*/zoomImages \n",
      "\n",
      " Sitemap: https://www.soriana.com/sitemap.xml \n",
      "\n",
      " User-agent: CazoodleBot \n",
      "Disallow: / \n",
      "\n",
      " User-agent: MJ12bot \n",
      "Disallow: / \n",
      "\n",
      " # Block dotbot as it cannot parse base urls properly \n",
      "User-agent: dotbot/1.0 \n",
      "Disallow: / \n",
      "\n",
      " # Block Gigabot \n",
      "User-agent: Gigabot \n",
      "Disallow: / \n",
      "\n",
      " # Block&nbsp; \n",
      "Disallow: /*/TarjetaVisaLink \n",
      "Disallow: /*/TarjetaMastercardLink \n",
      "Disallow: /*/TarjetaAprecioLink \n",
      "Disallow: /*/TarjetaPaypalLink \n",
      "Disallow: /*/TarjetaBBVaLink \n",
      "Disallow: /*/TarjetaVisaCheckoutLink\n"
     ]
    }
   ],
   "source": [
    "data = re.sub( r'<[^>]*>', ' ', text).strip()\n",
    "\n",
    "print(data)"
   ]
  },
  {
   "cell_type": "markdown",
   "metadata": {},
   "source": [
    "Como se aprecia el fichero robots.txt nos muestra los sitios que no deberíamos tomar en cuenta para nuestra extracción y que se respetarán durante la ejecución de este proyecto."
   ]
  },
  {
   "cell_type": "code",
   "execution_count": 5,
   "metadata": {},
   "outputs": [],
   "source": [
    "#pip install builtwith"
   ]
  },
  {
   "cell_type": "code",
   "execution_count": 6,
   "metadata": {},
   "outputs": [],
   "source": [
    "#Identificamos las tecnologías presentes\n",
    "\n",
    "import builtwith\n",
    "#tech_used = builtwith.parse('https://www.soriana.com/')\n",
    "#print(tech_used)"
   ]
  },
  {
   "cell_type": "code",
   "execution_count": 7,
   "metadata": {},
   "outputs": [],
   "source": [
    "#pip3 install python-whois"
   ]
  },
  {
   "cell_type": "code",
   "execution_count": 8,
   "metadata": {},
   "outputs": [
    {
     "data": {
      "text/plain": [
       "{'domain_name': 'SORIANA.COM',\n",
       " 'registrar': 'Domain.com, LLC',\n",
       " 'whois_server': 'whois.domain.com',\n",
       " 'referral_url': None,\n",
       " 'updated_date': datetime.datetime(2020, 10, 6, 20, 29, 5),\n",
       " 'creation_date': datetime.datetime(2000, 11, 1, 16, 36, 39),\n",
       " 'expiration_date': datetime.datetime(2025, 11, 1, 16, 36, 39),\n",
       " 'name_servers': ['NS1.KIONETWORKS.NET',\n",
       "  'NS2.KIONETWORKS.NET',\n",
       "  'NS3.KIONETWORKS.NET',\n",
       "  'ns1.kionetworks.net',\n",
       "  'ns2.kionetworks.net',\n",
       "  'ns3.kionetworks.net'],\n",
       " 'status': 'clientDeleteProhibited https://icann.org/epp#clientDeleteProhibited',\n",
       " 'emails': ['compliance@domain-inc.net', 'support@dotster-inc.com'],\n",
       " 'dnssec': 'unsigned',\n",
       " 'name': 'REDACTED FOR PRIVACY',\n",
       " 'org': 'REDACTED FOR PRIVACY',\n",
       " 'address': 'REDACTED FOR PRIVACY',\n",
       " 'city': 'REDACTED FOR PRIVACY',\n",
       " 'state': 'Nuevo Leon',\n",
       " 'zipcode': 'REDACTED FOR PRIVACY',\n",
       " 'country': 'MX'}"
      ]
     },
     "execution_count": 8,
     "metadata": {},
     "output_type": "execute_result"
    }
   ],
   "source": [
    "#Buscando datos sobre el dominio\n",
    "import whois\n",
    "whois.whois('soriana.com/')"
   ]
  },
  {
   "cell_type": "code",
   "execution_count": 9,
   "metadata": {
    "id": "FOZX1W7IIp24"
   },
   "outputs": [],
   "source": [
    "#Se generan una serie de listas para guardar información correspondiente.\n",
    "#Nombre de los productos\n",
    "Nprod=[]\n",
    "#Precios Original de los productos\n",
    "POriginal=[]\n",
    "#Precios en rebaja de los productos\n",
    "PRebaja=[]\n",
    "#Guarda las urls de las imagenes.\n",
    "imgurls=[]\n",
    "#Las siguientes variables se pueden utilizar cuando se hace clic en el producto\n",
    "#Puntuaciones de los productos\n",
    "Puntuaciones=[]\n",
    "#Reseñas de los productos\n",
    "Resena=[]\n",
    "#Detalles generales\n",
    "Detalles=[]"
   ]
  },
  {
   "cell_type": "markdown",
   "metadata": {
    "id": "l3t48oaAI0gA"
   },
   "source": [
    "\n",
    "Se define la URl del sitio escogido, la cadena de supermercados Soriana.\n",
    "También se genera el user agent en el cual puede contener detalles como el tipo de aplicación, sistema operativo, proveedor de software o la versión de software.\n",
    "El cual se utiliza para realizar la solicitud al sitio web.\n",
    "Y poder extraer la información de la págna teniendo en cuenta el lenguaje html.\n",
    "\n",
    "\n",
    "Nota: Si el siguiente bloque de código parece no ejecutarse se recomienda cambiar/alternar el User-Agent.\n"
   ]
  },
  {
   "cell_type": "code",
   "execution_count": 10,
   "metadata": {},
   "outputs": [],
   "source": [
    "#agent = {\"User-Agent\": 'Mozilla/5.0 (Windows NT 6.3; Win64; x64) AppleWebKit/537.36 (KHTML, like Gecko) Chrome/86.0.4240.111 Safari/537.36'}\n"
   ]
  },
  {
   "cell_type": "code",
   "execution_count": 11,
   "metadata": {},
   "outputs": [],
   "source": [
    "agent= {'User-Agent': 'Mozilla/5.0 (Macintosh; Intel Mac OS X 10_11_6) AppleWebKit/537.36 (KHTML, like Gecko) Chrome/61.0.3163.100 Safari/537.36','Accept-Encoding': 'gzip, deflate, br','Accept-Language': 'en-US,en;q=0.9,hi;q=0.8'}"
   ]
  },
  {
   "cell_type": "code",
   "execution_count": 15,
   "metadata": {
    "scrolled": true
   },
   "outputs": [],
   "source": [
    "agent2 = {\n",
    "\"Accept\": \"text/html,application/xhtml+xml,application/xml;q=0.9,image/webp,\\*/*;q=0.8\",\n",
    "\"Accept-Encoding\": \"gzip, deflate, sdch, br\",\n",
    "\"Accept-Language\": \"en-US,en;q=0.8\",\n",
    "\"Cache-Control\": \"no-cache\",\n",
    "\"dnt\": \"1\",\n",
    "\"Pragma\": \"no-cache\",\n",
    "\"Upgrade-Insecure-Requests\": \"1\",\n",
    "\"User-Agent\": \"Mozilla/5.0 (Macintosh; Intel Mac OS X 10_12_3) AppleWebKit/5\\\n",
    "37.36 (KHTML, like Gecko) Chrome/56.0.2924.87 Safari/537.36\"\n",
    "}"
   ]
  },
  {
   "cell_type": "code",
   "execution_count": 16,
   "metadata": {
    "id": "pT-bCV56I47j"
   },
   "outputs": [],
   "source": [
    "URL='https://www.soriana.com/'\n",
    "#agent = {\"User-Agent\":'Mozilla/5.0 (Windows NT 6.3; WOW64) AppleWebKit/537.36 (KHTML, like Gecko) Chrome/59.0.3071.115 Safari/537.36'}\n",
    "page = requests.get(URL, headers=agent)\n",
    "c=page.content\n",
    "soup=BeautifulSoup(c,'html')"
   ]
  },
  {
   "cell_type": "markdown",
   "metadata": {
    "id": "Rrlm6CPmI8yh"
   },
   "source": [
    "\n",
    "Se realiza una busqueda de componentes con la etiqueta li, donde se realiza un filtro para aquellos que no contienen información\n",
    "Se generan dos listas para guardar información de las subcategorias y los links de la página web, mediante la etiqueta title \n",
    "y href la cual se llena mediante el ciclo for.\n"
   ]
  },
  {
   "cell_type": "code",
   "execution_count": 17,
   "metadata": {
    "id": "f0sqbO-6JJKO"
   },
   "outputs": [],
   "source": [
    "summary2=soup.findAll('li',{'class':'yCmsComponent Lc right_col'})\n",
    "a=summary2[40]\n",
    "summary2=[x for x in summary2 if x!=a]\n",
    "subtitulos=[]\n",
    "sublinks=[]\n",
    "\n",
    "for j in summary2:\n",
    "    subtitulos.append(j.find('a').get('title'))\n",
    "    sublinks.append(j.find('a').get('href'))"
   ]
  },
  {
   "cell_type": "markdown",
   "metadata": {
    "id": "0g2ErTaCJSR_"
   },
   "source": [
    "Algunas de las urls que se han extraído un guardado en sublinks, no se\n",
    "encuentran completas, es decir hace falta la parte principal \"https://www.soriana.com/\"\n",
    "por lo cual se realiza el ajuste correspondiente con un ciclo for.\n",
    "\n"
   ]
  },
  {
   "cell_type": "code",
   "execution_count": 18,
   "metadata": {
    "id": "mFzpMVgrJtaV"
   },
   "outputs": [],
   "source": [
    "for i in range(0,len(sublinks)):\n",
    "    if 'https' not in sublinks[i]:\n",
    "        sublinks[i]=urljoin(URL, sublinks[i])"
   ]
  },
  {
   "cell_type": "markdown",
   "metadata": {
    "id": "2ZJhWpCVJvX_"
   },
   "source": [
    "\n",
    "Se genera un dataframe para guardar la información del nombre de las subcategorias\n",
    "y de los links correspondientes.\n"
   ]
  },
  {
   "cell_type": "code",
   "execution_count": 19,
   "metadata": {
    "id": "h_ht3jrvJ3rL"
   },
   "outputs": [],
   "source": [
    "df=pd.DataFrame({'Subcategorias':subtitulos,'Sublinks':sublinks},\n",
    "                columns=['Subcategorias','Sublinks'])\n",
    "df=df[29:]"
   ]
  },
  {
   "cell_type": "code",
   "execution_count": 20,
   "metadata": {},
   "outputs": [],
   "source": [
    "#df.to_csv('C:/David/UOC/Sem 2/Tipo/PRA1/notebooks/sublinks.csv', index = False, header=True)"
   ]
  },
  {
   "cell_type": "code",
   "execution_count": 21,
   "metadata": {},
   "outputs": [
    {
     "name": "stdout",
     "output_type": "stream",
     "text": [
      "                Subcategorias  \\\n",
      "29                  Pantallas   \n",
      "30     Soportes para pantalla   \n",
      "31   Accesorios de tv y video   \n",
      "32                  Streaming   \n",
      "33             Teatro en casa   \n",
      "..                        ...   \n",
      "488                  Plafones   \n",
      "489        Lámparas colgantes   \n",
      "490                 Linternas   \n",
      "491        Bohemia Cristalina   \n",
      "492                   Carlyle   \n",
      "\n",
      "                                              Sublinks  \n",
      "29   https://www.soriana.com/soriana/es/c/Electr%C3...  \n",
      "30   https://www.soriana.com/soriana/es/c/Electr%C3...  \n",
      "31   https://www.soriana.com/soriana/es/c/Electr%C3...  \n",
      "32   https://www.soriana.com/soriana/es/c/Electr%C3...  \n",
      "33   https://www.soriana.com/soriana/es/c/Electr%C3...  \n",
      "..                                                 ...  \n",
      "488  https://www.soriana.com/soriana/es/c/Ferreter%...  \n",
      "489  https://www.soriana.com/soriana/es/c/Ferreter%...  \n",
      "490  https://www.soriana.com/soriana/es/c/Ferreter%...  \n",
      "491  https://www.soriana.com/soriana/es/c/Recompens...  \n",
      "492  https://www.soriana.com/soriana/es/c/Recompens...  \n",
      "\n",
      "[464 rows x 2 columns]\n"
     ]
    }
   ],
   "source": [
    "print(df)"
   ]
  },
  {
   "cell_type": "markdown",
   "metadata": {
    "id": "Pl8w5aN2J6aP"
   },
   "source": [
    "\n",
    "Se realiza el mismo paso anterior: donde se extrae la información de \n",
    "cada una de las URLs que se han guardado en el dataframe. En este caso, \n",
    "nos interesa el extraer la información correspondientes a los items que\n",
    "se encuentran dentro de cada una de las subcategorias.\n"
   ]
  },
  {
   "cell_type": "code",
   "execution_count": 22,
   "metadata": {
    "id": "hcM-FDOqJ90N"
   },
   "outputs": [],
   "source": [
    "newURL=df.iat[0,1]\n",
    "page = requests.get(newURL, headers=agent)\n",
    "c=page.content\n",
    "soup=BeautifulSoup(c,'html')\n",
    "summary=soup.find('div',{'class':\"product__listing product__grid\"})\n",
    "land_list=summary.findAll('div',{\"class\": \"product-item\"})"
   ]
  },
  {
   "cell_type": "markdown",
   "metadata": {
    "id": "IzDQ5XO6KE6a"
   },
   "source": [
    "En este caso se tiene una variación en las etiquetas para encontrar el\n",
    "precio como el nombre del producto, por lo cual se realiza el manejo de\n",
    "excepciones correspondiente a cada cambio de etiqueta entre el precio y \n",
    "el nombre del producto. Igualmente se realiza la extracción de las URLs\n",
    "del material audiovisual."
   ]
  },
  {
   "cell_type": "code",
   "execution_count": 23,
   "metadata": {},
   "outputs": [
    {
     "name": "stdout",
     "output_type": "stream",
     "text": [
      "21:15:46\n"
     ]
    }
   ],
   "source": [
    "#Imprimo el tiempo de inicio de la extracción\n",
    "import time\n",
    "t = time.localtime()\n",
    "current_time = time.strftime(\"%H:%M:%S\", t)\n",
    "print(current_time)"
   ]
  },
  {
   "cell_type": "markdown",
   "metadata": {},
   "source": [
    "En caso de que el servidor no responda se debe usar la función 'sleep' que se encuentra comentada "
   ]
  },
  {
   "cell_type": "code",
   "execution_count": 24,
   "metadata": {
    "id": "LAC6-EAwKKEj"
   },
   "outputs": [
    {
     "ename": "ConnectionError",
     "evalue": "HTTPSConnectionPool(host='www.soriana.com', port=443): Max retries exceeded with url: /soriana/es/c/Videojuegos/XBOX/Accesorios-XBOX/c/E13 (Caused by NewConnectionError('<urllib3.connection.HTTPSConnection object at 0x0000005B31307A08>: Failed to establish a new connection: [Errno 11001] getaddrinfo failed'))",
     "output_type": "error",
     "traceback": [
      "\u001b[1;31m---------------------------------------------------------------------------\u001b[0m",
      "\u001b[1;31mgaierror\u001b[0m                                  Traceback (most recent call last)",
      "\u001b[1;32m~\\.conda\\envs\\py_env\\lib\\site-packages\\urllib3\\connection.py\u001b[0m in \u001b[0;36m_new_conn\u001b[1;34m(self)\u001b[0m\n\u001b[0;32m    159\u001b[0m             conn = connection.create_connection(\n\u001b[1;32m--> 160\u001b[1;33m                 \u001b[1;33m(\u001b[0m\u001b[0mself\u001b[0m\u001b[1;33m.\u001b[0m\u001b[0m_dns_host\u001b[0m\u001b[1;33m,\u001b[0m \u001b[0mself\u001b[0m\u001b[1;33m.\u001b[0m\u001b[0mport\u001b[0m\u001b[1;33m)\u001b[0m\u001b[1;33m,\u001b[0m \u001b[0mself\u001b[0m\u001b[1;33m.\u001b[0m\u001b[0mtimeout\u001b[0m\u001b[1;33m,\u001b[0m \u001b[1;33m**\u001b[0m\u001b[0mextra_kw\u001b[0m\u001b[1;33m\u001b[0m\u001b[1;33m\u001b[0m\u001b[0m\n\u001b[0m\u001b[0;32m    161\u001b[0m             )\n",
      "\u001b[1;32m~\\.conda\\envs\\py_env\\lib\\site-packages\\urllib3\\util\\connection.py\u001b[0m in \u001b[0;36mcreate_connection\u001b[1;34m(address, timeout, source_address, socket_options)\u001b[0m\n\u001b[0;32m     60\u001b[0m \u001b[1;33m\u001b[0m\u001b[0m\n\u001b[1;32m---> 61\u001b[1;33m     \u001b[1;32mfor\u001b[0m \u001b[0mres\u001b[0m \u001b[1;32min\u001b[0m \u001b[0msocket\u001b[0m\u001b[1;33m.\u001b[0m\u001b[0mgetaddrinfo\u001b[0m\u001b[1;33m(\u001b[0m\u001b[0mhost\u001b[0m\u001b[1;33m,\u001b[0m \u001b[0mport\u001b[0m\u001b[1;33m,\u001b[0m \u001b[0mfamily\u001b[0m\u001b[1;33m,\u001b[0m \u001b[0msocket\u001b[0m\u001b[1;33m.\u001b[0m\u001b[0mSOCK_STREAM\u001b[0m\u001b[1;33m)\u001b[0m\u001b[1;33m:\u001b[0m\u001b[1;33m\u001b[0m\u001b[1;33m\u001b[0m\u001b[0m\n\u001b[0m\u001b[0;32m     62\u001b[0m         \u001b[0maf\u001b[0m\u001b[1;33m,\u001b[0m \u001b[0msocktype\u001b[0m\u001b[1;33m,\u001b[0m \u001b[0mproto\u001b[0m\u001b[1;33m,\u001b[0m \u001b[0mcanonname\u001b[0m\u001b[1;33m,\u001b[0m \u001b[0msa\u001b[0m \u001b[1;33m=\u001b[0m \u001b[0mres\u001b[0m\u001b[1;33m\u001b[0m\u001b[1;33m\u001b[0m\u001b[0m\n",
      "\u001b[1;32m~\\.conda\\envs\\py_env\\lib\\socket.py\u001b[0m in \u001b[0;36mgetaddrinfo\u001b[1;34m(host, port, family, type, proto, flags)\u001b[0m\n\u001b[0;32m    751\u001b[0m     \u001b[0maddrlist\u001b[0m \u001b[1;33m=\u001b[0m \u001b[1;33m[\u001b[0m\u001b[1;33m]\u001b[0m\u001b[1;33m\u001b[0m\u001b[1;33m\u001b[0m\u001b[0m\n\u001b[1;32m--> 752\u001b[1;33m     \u001b[1;32mfor\u001b[0m \u001b[0mres\u001b[0m \u001b[1;32min\u001b[0m \u001b[0m_socket\u001b[0m\u001b[1;33m.\u001b[0m\u001b[0mgetaddrinfo\u001b[0m\u001b[1;33m(\u001b[0m\u001b[0mhost\u001b[0m\u001b[1;33m,\u001b[0m \u001b[0mport\u001b[0m\u001b[1;33m,\u001b[0m \u001b[0mfamily\u001b[0m\u001b[1;33m,\u001b[0m \u001b[0mtype\u001b[0m\u001b[1;33m,\u001b[0m \u001b[0mproto\u001b[0m\u001b[1;33m,\u001b[0m \u001b[0mflags\u001b[0m\u001b[1;33m)\u001b[0m\u001b[1;33m:\u001b[0m\u001b[1;33m\u001b[0m\u001b[1;33m\u001b[0m\u001b[0m\n\u001b[0m\u001b[0;32m    753\u001b[0m         \u001b[0maf\u001b[0m\u001b[1;33m,\u001b[0m \u001b[0msocktype\u001b[0m\u001b[1;33m,\u001b[0m \u001b[0mproto\u001b[0m\u001b[1;33m,\u001b[0m \u001b[0mcanonname\u001b[0m\u001b[1;33m,\u001b[0m \u001b[0msa\u001b[0m \u001b[1;33m=\u001b[0m \u001b[0mres\u001b[0m\u001b[1;33m\u001b[0m\u001b[1;33m\u001b[0m\u001b[0m\n",
      "\u001b[1;31mgaierror\u001b[0m: [Errno 11001] getaddrinfo failed",
      "\nDuring handling of the above exception, another exception occurred:\n",
      "\u001b[1;31mNewConnectionError\u001b[0m                        Traceback (most recent call last)",
      "\u001b[1;32m~\\.conda\\envs\\py_env\\lib\\site-packages\\urllib3\\connectionpool.py\u001b[0m in \u001b[0;36murlopen\u001b[1;34m(self, method, url, body, headers, retries, redirect, assert_same_host, timeout, pool_timeout, release_conn, chunked, body_pos, **response_kw)\u001b[0m\n\u001b[0;32m    676\u001b[0m                 \u001b[0mheaders\u001b[0m\u001b[1;33m=\u001b[0m\u001b[0mheaders\u001b[0m\u001b[1;33m,\u001b[0m\u001b[1;33m\u001b[0m\u001b[1;33m\u001b[0m\u001b[0m\n\u001b[1;32m--> 677\u001b[1;33m                 \u001b[0mchunked\u001b[0m\u001b[1;33m=\u001b[0m\u001b[0mchunked\u001b[0m\u001b[1;33m,\u001b[0m\u001b[1;33m\u001b[0m\u001b[1;33m\u001b[0m\u001b[0m\n\u001b[0m\u001b[0;32m    678\u001b[0m             )\n",
      "\u001b[1;32m~\\.conda\\envs\\py_env\\lib\\site-packages\\urllib3\\connectionpool.py\u001b[0m in \u001b[0;36m_make_request\u001b[1;34m(self, conn, method, url, timeout, chunked, **httplib_request_kw)\u001b[0m\n\u001b[0;32m    380\u001b[0m         \u001b[1;32mtry\u001b[0m\u001b[1;33m:\u001b[0m\u001b[1;33m\u001b[0m\u001b[1;33m\u001b[0m\u001b[0m\n\u001b[1;32m--> 381\u001b[1;33m             \u001b[0mself\u001b[0m\u001b[1;33m.\u001b[0m\u001b[0m_validate_conn\u001b[0m\u001b[1;33m(\u001b[0m\u001b[0mconn\u001b[0m\u001b[1;33m)\u001b[0m\u001b[1;33m\u001b[0m\u001b[1;33m\u001b[0m\u001b[0m\n\u001b[0m\u001b[0;32m    382\u001b[0m         \u001b[1;32mexcept\u001b[0m \u001b[1;33m(\u001b[0m\u001b[0mSocketTimeout\u001b[0m\u001b[1;33m,\u001b[0m \u001b[0mBaseSSLError\u001b[0m\u001b[1;33m)\u001b[0m \u001b[1;32mas\u001b[0m \u001b[0me\u001b[0m\u001b[1;33m:\u001b[0m\u001b[1;33m\u001b[0m\u001b[1;33m\u001b[0m\u001b[0m\n",
      "\u001b[1;32m~\\.conda\\envs\\py_env\\lib\\site-packages\\urllib3\\connectionpool.py\u001b[0m in \u001b[0;36m_validate_conn\u001b[1;34m(self, conn)\u001b[0m\n\u001b[0;32m    975\u001b[0m         \u001b[1;32mif\u001b[0m \u001b[1;32mnot\u001b[0m \u001b[0mgetattr\u001b[0m\u001b[1;33m(\u001b[0m\u001b[0mconn\u001b[0m\u001b[1;33m,\u001b[0m \u001b[1;34m\"sock\"\u001b[0m\u001b[1;33m,\u001b[0m \u001b[1;32mNone\u001b[0m\u001b[1;33m)\u001b[0m\u001b[1;33m:\u001b[0m  \u001b[1;31m# AppEngine might not have  `.sock`\u001b[0m\u001b[1;33m\u001b[0m\u001b[1;33m\u001b[0m\u001b[0m\n\u001b[1;32m--> 976\u001b[1;33m             \u001b[0mconn\u001b[0m\u001b[1;33m.\u001b[0m\u001b[0mconnect\u001b[0m\u001b[1;33m(\u001b[0m\u001b[1;33m)\u001b[0m\u001b[1;33m\u001b[0m\u001b[1;33m\u001b[0m\u001b[0m\n\u001b[0m\u001b[0;32m    977\u001b[0m \u001b[1;33m\u001b[0m\u001b[0m\n",
      "\u001b[1;32m~\\.conda\\envs\\py_env\\lib\\site-packages\\urllib3\\connection.py\u001b[0m in \u001b[0;36mconnect\u001b[1;34m(self)\u001b[0m\n\u001b[0;32m    307\u001b[0m         \u001b[1;31m# Add certificate verification\u001b[0m\u001b[1;33m\u001b[0m\u001b[1;33m\u001b[0m\u001b[1;33m\u001b[0m\u001b[0m\n\u001b[1;32m--> 308\u001b[1;33m         \u001b[0mconn\u001b[0m \u001b[1;33m=\u001b[0m \u001b[0mself\u001b[0m\u001b[1;33m.\u001b[0m\u001b[0m_new_conn\u001b[0m\u001b[1;33m(\u001b[0m\u001b[1;33m)\u001b[0m\u001b[1;33m\u001b[0m\u001b[1;33m\u001b[0m\u001b[0m\n\u001b[0m\u001b[0;32m    309\u001b[0m         \u001b[0mhostname\u001b[0m \u001b[1;33m=\u001b[0m \u001b[0mself\u001b[0m\u001b[1;33m.\u001b[0m\u001b[0mhost\u001b[0m\u001b[1;33m\u001b[0m\u001b[1;33m\u001b[0m\u001b[0m\n",
      "\u001b[1;32m~\\.conda\\envs\\py_env\\lib\\site-packages\\urllib3\\connection.py\u001b[0m in \u001b[0;36m_new_conn\u001b[1;34m(self)\u001b[0m\n\u001b[0;32m    171\u001b[0m             raise NewConnectionError(\n\u001b[1;32m--> 172\u001b[1;33m                 \u001b[0mself\u001b[0m\u001b[1;33m,\u001b[0m \u001b[1;34m\"Failed to establish a new connection: %s\"\u001b[0m \u001b[1;33m%\u001b[0m \u001b[0me\u001b[0m\u001b[1;33m\u001b[0m\u001b[1;33m\u001b[0m\u001b[0m\n\u001b[0m\u001b[0;32m    173\u001b[0m             )\n",
      "\u001b[1;31mNewConnectionError\u001b[0m: <urllib3.connection.HTTPSConnection object at 0x0000005B31307A08>: Failed to establish a new connection: [Errno 11001] getaddrinfo failed",
      "\nDuring handling of the above exception, another exception occurred:\n",
      "\u001b[1;31mMaxRetryError\u001b[0m                             Traceback (most recent call last)",
      "\u001b[1;32m~\\.conda\\envs\\py_env\\lib\\site-packages\\requests\\adapters.py\u001b[0m in \u001b[0;36msend\u001b[1;34m(self, request, stream, timeout, verify, cert, proxies)\u001b[0m\n\u001b[0;32m    448\u001b[0m                     \u001b[0mretries\u001b[0m\u001b[1;33m=\u001b[0m\u001b[0mself\u001b[0m\u001b[1;33m.\u001b[0m\u001b[0mmax_retries\u001b[0m\u001b[1;33m,\u001b[0m\u001b[1;33m\u001b[0m\u001b[1;33m\u001b[0m\u001b[0m\n\u001b[1;32m--> 449\u001b[1;33m                     \u001b[0mtimeout\u001b[0m\u001b[1;33m=\u001b[0m\u001b[0mtimeout\u001b[0m\u001b[1;33m\u001b[0m\u001b[1;33m\u001b[0m\u001b[0m\n\u001b[0m\u001b[0;32m    450\u001b[0m                 )\n",
      "\u001b[1;32m~\\.conda\\envs\\py_env\\lib\\site-packages\\urllib3\\connectionpool.py\u001b[0m in \u001b[0;36murlopen\u001b[1;34m(self, method, url, body, headers, retries, redirect, assert_same_host, timeout, pool_timeout, release_conn, chunked, body_pos, **response_kw)\u001b[0m\n\u001b[0;32m    724\u001b[0m             retries = retries.increment(\n\u001b[1;32m--> 725\u001b[1;33m                 \u001b[0mmethod\u001b[0m\u001b[1;33m,\u001b[0m \u001b[0murl\u001b[0m\u001b[1;33m,\u001b[0m \u001b[0merror\u001b[0m\u001b[1;33m=\u001b[0m\u001b[0me\u001b[0m\u001b[1;33m,\u001b[0m \u001b[0m_pool\u001b[0m\u001b[1;33m=\u001b[0m\u001b[0mself\u001b[0m\u001b[1;33m,\u001b[0m \u001b[0m_stacktrace\u001b[0m\u001b[1;33m=\u001b[0m\u001b[0msys\u001b[0m\u001b[1;33m.\u001b[0m\u001b[0mexc_info\u001b[0m\u001b[1;33m(\u001b[0m\u001b[1;33m)\u001b[0m\u001b[1;33m[\u001b[0m\u001b[1;36m2\u001b[0m\u001b[1;33m]\u001b[0m\u001b[1;33m\u001b[0m\u001b[1;33m\u001b[0m\u001b[0m\n\u001b[0m\u001b[0;32m    726\u001b[0m             )\n",
      "\u001b[1;32m~\\.conda\\envs\\py_env\\lib\\site-packages\\urllib3\\util\\retry.py\u001b[0m in \u001b[0;36mincrement\u001b[1;34m(self, method, url, response, error, _pool, _stacktrace)\u001b[0m\n\u001b[0;32m    438\u001b[0m         \u001b[1;32mif\u001b[0m \u001b[0mnew_retry\u001b[0m\u001b[1;33m.\u001b[0m\u001b[0mis_exhausted\u001b[0m\u001b[1;33m(\u001b[0m\u001b[1;33m)\u001b[0m\u001b[1;33m:\u001b[0m\u001b[1;33m\u001b[0m\u001b[1;33m\u001b[0m\u001b[0m\n\u001b[1;32m--> 439\u001b[1;33m             \u001b[1;32mraise\u001b[0m \u001b[0mMaxRetryError\u001b[0m\u001b[1;33m(\u001b[0m\u001b[0m_pool\u001b[0m\u001b[1;33m,\u001b[0m \u001b[0murl\u001b[0m\u001b[1;33m,\u001b[0m \u001b[0merror\u001b[0m \u001b[1;32mor\u001b[0m \u001b[0mResponseError\u001b[0m\u001b[1;33m(\u001b[0m\u001b[0mcause\u001b[0m\u001b[1;33m)\u001b[0m\u001b[1;33m)\u001b[0m\u001b[1;33m\u001b[0m\u001b[1;33m\u001b[0m\u001b[0m\n\u001b[0m\u001b[0;32m    440\u001b[0m \u001b[1;33m\u001b[0m\u001b[0m\n",
      "\u001b[1;31mMaxRetryError\u001b[0m: HTTPSConnectionPool(host='www.soriana.com', port=443): Max retries exceeded with url: /soriana/es/c/Videojuegos/XBOX/Accesorios-XBOX/c/E13 (Caused by NewConnectionError('<urllib3.connection.HTTPSConnection object at 0x0000005B31307A08>: Failed to establish a new connection: [Errno 11001] getaddrinfo failed'))",
      "\nDuring handling of the above exception, another exception occurred:\n",
      "\u001b[1;31mConnectionError\u001b[0m                           Traceback (most recent call last)",
      "\u001b[1;32m<ipython-input-24-d88e6d416975>\u001b[0m in \u001b[0;36m<module>\u001b[1;34m\u001b[0m\n\u001b[0;32m      1\u001b[0m \u001b[1;32mfor\u001b[0m \u001b[0mk\u001b[0m \u001b[1;32min\u001b[0m \u001b[0mrange\u001b[0m\u001b[1;33m(\u001b[0m\u001b[1;36m0\u001b[0m\u001b[1;33m,\u001b[0m\u001b[1;36m464\u001b[0m\u001b[1;33m)\u001b[0m\u001b[1;33m:\u001b[0m\u001b[1;33m\u001b[0m\u001b[1;33m\u001b[0m\u001b[0m\n\u001b[0;32m      2\u001b[0m     \u001b[0mnewURL\u001b[0m\u001b[1;33m=\u001b[0m\u001b[0mdf\u001b[0m\u001b[1;33m.\u001b[0m\u001b[0miat\u001b[0m\u001b[1;33m[\u001b[0m\u001b[0mk\u001b[0m\u001b[1;33m,\u001b[0m\u001b[1;36m1\u001b[0m\u001b[1;33m]\u001b[0m\u001b[1;33m\u001b[0m\u001b[1;33m\u001b[0m\u001b[0m\n\u001b[1;32m----> 3\u001b[1;33m     \u001b[0mpage\u001b[0m \u001b[1;33m=\u001b[0m \u001b[0mrequests\u001b[0m\u001b[1;33m.\u001b[0m\u001b[0mget\u001b[0m\u001b[1;33m(\u001b[0m\u001b[0mnewURL\u001b[0m\u001b[1;33m,\u001b[0m \u001b[0mheaders\u001b[0m\u001b[1;33m=\u001b[0m\u001b[0magent\u001b[0m\u001b[1;33m)\u001b[0m\u001b[1;33m\u001b[0m\u001b[1;33m\u001b[0m\u001b[0m\n\u001b[0m\u001b[0;32m      4\u001b[0m     \u001b[0mc\u001b[0m\u001b[1;33m=\u001b[0m\u001b[0mpage\u001b[0m\u001b[1;33m.\u001b[0m\u001b[0mcontent\u001b[0m\u001b[1;33m\u001b[0m\u001b[1;33m\u001b[0m\u001b[0m\n\u001b[0;32m      5\u001b[0m     \u001b[0msoup\u001b[0m\u001b[1;33m=\u001b[0m\u001b[0mBeautifulSoup\u001b[0m\u001b[1;33m(\u001b[0m\u001b[0mc\u001b[0m\u001b[1;33m,\u001b[0m\u001b[1;34m'html'\u001b[0m\u001b[1;33m)\u001b[0m\u001b[1;33m\u001b[0m\u001b[1;33m\u001b[0m\u001b[0m\n",
      "\u001b[1;32m~\\.conda\\envs\\py_env\\lib\\site-packages\\requests\\api.py\u001b[0m in \u001b[0;36mget\u001b[1;34m(url, params, **kwargs)\u001b[0m\n\u001b[0;32m     74\u001b[0m \u001b[1;33m\u001b[0m\u001b[0m\n\u001b[0;32m     75\u001b[0m     \u001b[0mkwargs\u001b[0m\u001b[1;33m.\u001b[0m\u001b[0msetdefault\u001b[0m\u001b[1;33m(\u001b[0m\u001b[1;34m'allow_redirects'\u001b[0m\u001b[1;33m,\u001b[0m \u001b[1;32mTrue\u001b[0m\u001b[1;33m)\u001b[0m\u001b[1;33m\u001b[0m\u001b[1;33m\u001b[0m\u001b[0m\n\u001b[1;32m---> 76\u001b[1;33m     \u001b[1;32mreturn\u001b[0m \u001b[0mrequest\u001b[0m\u001b[1;33m(\u001b[0m\u001b[1;34m'get'\u001b[0m\u001b[1;33m,\u001b[0m \u001b[0murl\u001b[0m\u001b[1;33m,\u001b[0m \u001b[0mparams\u001b[0m\u001b[1;33m=\u001b[0m\u001b[0mparams\u001b[0m\u001b[1;33m,\u001b[0m \u001b[1;33m**\u001b[0m\u001b[0mkwargs\u001b[0m\u001b[1;33m)\u001b[0m\u001b[1;33m\u001b[0m\u001b[1;33m\u001b[0m\u001b[0m\n\u001b[0m\u001b[0;32m     77\u001b[0m \u001b[1;33m\u001b[0m\u001b[0m\n\u001b[0;32m     78\u001b[0m \u001b[1;33m\u001b[0m\u001b[0m\n",
      "\u001b[1;32m~\\.conda\\envs\\py_env\\lib\\site-packages\\requests\\api.py\u001b[0m in \u001b[0;36mrequest\u001b[1;34m(method, url, **kwargs)\u001b[0m\n\u001b[0;32m     59\u001b[0m     \u001b[1;31m# cases, and look like a memory leak in others.\u001b[0m\u001b[1;33m\u001b[0m\u001b[1;33m\u001b[0m\u001b[1;33m\u001b[0m\u001b[0m\n\u001b[0;32m     60\u001b[0m     \u001b[1;32mwith\u001b[0m \u001b[0msessions\u001b[0m\u001b[1;33m.\u001b[0m\u001b[0mSession\u001b[0m\u001b[1;33m(\u001b[0m\u001b[1;33m)\u001b[0m \u001b[1;32mas\u001b[0m \u001b[0msession\u001b[0m\u001b[1;33m:\u001b[0m\u001b[1;33m\u001b[0m\u001b[1;33m\u001b[0m\u001b[0m\n\u001b[1;32m---> 61\u001b[1;33m         \u001b[1;32mreturn\u001b[0m \u001b[0msession\u001b[0m\u001b[1;33m.\u001b[0m\u001b[0mrequest\u001b[0m\u001b[1;33m(\u001b[0m\u001b[0mmethod\u001b[0m\u001b[1;33m=\u001b[0m\u001b[0mmethod\u001b[0m\u001b[1;33m,\u001b[0m \u001b[0murl\u001b[0m\u001b[1;33m=\u001b[0m\u001b[0murl\u001b[0m\u001b[1;33m,\u001b[0m \u001b[1;33m**\u001b[0m\u001b[0mkwargs\u001b[0m\u001b[1;33m)\u001b[0m\u001b[1;33m\u001b[0m\u001b[1;33m\u001b[0m\u001b[0m\n\u001b[0m\u001b[0;32m     62\u001b[0m \u001b[1;33m\u001b[0m\u001b[0m\n\u001b[0;32m     63\u001b[0m \u001b[1;33m\u001b[0m\u001b[0m\n",
      "\u001b[1;32m~\\.conda\\envs\\py_env\\lib\\site-packages\\requests\\sessions.py\u001b[0m in \u001b[0;36mrequest\u001b[1;34m(self, method, url, params, data, headers, cookies, files, auth, timeout, allow_redirects, proxies, hooks, stream, verify, cert, json)\u001b[0m\n\u001b[0;32m    528\u001b[0m         }\n\u001b[0;32m    529\u001b[0m         \u001b[0msend_kwargs\u001b[0m\u001b[1;33m.\u001b[0m\u001b[0mupdate\u001b[0m\u001b[1;33m(\u001b[0m\u001b[0msettings\u001b[0m\u001b[1;33m)\u001b[0m\u001b[1;33m\u001b[0m\u001b[1;33m\u001b[0m\u001b[0m\n\u001b[1;32m--> 530\u001b[1;33m         \u001b[0mresp\u001b[0m \u001b[1;33m=\u001b[0m \u001b[0mself\u001b[0m\u001b[1;33m.\u001b[0m\u001b[0msend\u001b[0m\u001b[1;33m(\u001b[0m\u001b[0mprep\u001b[0m\u001b[1;33m,\u001b[0m \u001b[1;33m**\u001b[0m\u001b[0msend_kwargs\u001b[0m\u001b[1;33m)\u001b[0m\u001b[1;33m\u001b[0m\u001b[1;33m\u001b[0m\u001b[0m\n\u001b[0m\u001b[0;32m    531\u001b[0m \u001b[1;33m\u001b[0m\u001b[0m\n\u001b[0;32m    532\u001b[0m         \u001b[1;32mreturn\u001b[0m \u001b[0mresp\u001b[0m\u001b[1;33m\u001b[0m\u001b[1;33m\u001b[0m\u001b[0m\n",
      "\u001b[1;32m~\\.conda\\envs\\py_env\\lib\\site-packages\\requests\\sessions.py\u001b[0m in \u001b[0;36msend\u001b[1;34m(self, request, **kwargs)\u001b[0m\n\u001b[0;32m    641\u001b[0m \u001b[1;33m\u001b[0m\u001b[0m\n\u001b[0;32m    642\u001b[0m         \u001b[1;31m# Send the request\u001b[0m\u001b[1;33m\u001b[0m\u001b[1;33m\u001b[0m\u001b[1;33m\u001b[0m\u001b[0m\n\u001b[1;32m--> 643\u001b[1;33m         \u001b[0mr\u001b[0m \u001b[1;33m=\u001b[0m \u001b[0madapter\u001b[0m\u001b[1;33m.\u001b[0m\u001b[0msend\u001b[0m\u001b[1;33m(\u001b[0m\u001b[0mrequest\u001b[0m\u001b[1;33m,\u001b[0m \u001b[1;33m**\u001b[0m\u001b[0mkwargs\u001b[0m\u001b[1;33m)\u001b[0m\u001b[1;33m\u001b[0m\u001b[1;33m\u001b[0m\u001b[0m\n\u001b[0m\u001b[0;32m    644\u001b[0m \u001b[1;33m\u001b[0m\u001b[0m\n\u001b[0;32m    645\u001b[0m         \u001b[1;31m# Total elapsed time of the request (approximately)\u001b[0m\u001b[1;33m\u001b[0m\u001b[1;33m\u001b[0m\u001b[1;33m\u001b[0m\u001b[0m\n",
      "\u001b[1;32m~\\.conda\\envs\\py_env\\lib\\site-packages\\requests\\adapters.py\u001b[0m in \u001b[0;36msend\u001b[1;34m(self, request, stream, timeout, verify, cert, proxies)\u001b[0m\n\u001b[0;32m    514\u001b[0m                 \u001b[1;32mraise\u001b[0m \u001b[0mSSLError\u001b[0m\u001b[1;33m(\u001b[0m\u001b[0me\u001b[0m\u001b[1;33m,\u001b[0m \u001b[0mrequest\u001b[0m\u001b[1;33m=\u001b[0m\u001b[0mrequest\u001b[0m\u001b[1;33m)\u001b[0m\u001b[1;33m\u001b[0m\u001b[1;33m\u001b[0m\u001b[0m\n\u001b[0;32m    515\u001b[0m \u001b[1;33m\u001b[0m\u001b[0m\n\u001b[1;32m--> 516\u001b[1;33m             \u001b[1;32mraise\u001b[0m \u001b[0mConnectionError\u001b[0m\u001b[1;33m(\u001b[0m\u001b[0me\u001b[0m\u001b[1;33m,\u001b[0m \u001b[0mrequest\u001b[0m\u001b[1;33m=\u001b[0m\u001b[0mrequest\u001b[0m\u001b[1;33m)\u001b[0m\u001b[1;33m\u001b[0m\u001b[1;33m\u001b[0m\u001b[0m\n\u001b[0m\u001b[0;32m    517\u001b[0m \u001b[1;33m\u001b[0m\u001b[0m\n\u001b[0;32m    518\u001b[0m         \u001b[1;32mexcept\u001b[0m \u001b[0mClosedPoolError\u001b[0m \u001b[1;32mas\u001b[0m \u001b[0me\u001b[0m\u001b[1;33m:\u001b[0m\u001b[1;33m\u001b[0m\u001b[1;33m\u001b[0m\u001b[0m\n",
      "\u001b[1;31mConnectionError\u001b[0m: HTTPSConnectionPool(host='www.soriana.com', port=443): Max retries exceeded with url: /soriana/es/c/Videojuegos/XBOX/Accesorios-XBOX/c/E13 (Caused by NewConnectionError('<urllib3.connection.HTTPSConnection object at 0x0000005B31307A08>: Failed to establish a new connection: [Errno 11001] getaddrinfo failed'))"
     ]
    }
   ],
   "source": [
    "for k in range(0,464):\n",
    "    newURL=df.iat[k,1]\n",
    "    page = requests.get(newURL, headers=agent)\n",
    "    c=page.content\n",
    "    soup=BeautifulSoup(c,'html')\n",
    "    summary=soup.find('div',{'class':\"product__listing product__grid\"})\n",
    "    try:\n",
    "        land_list=summary.findAll('div',{\"class\": \"product-item\"})\n",
    "    except AttributeError:\n",
    "        try:\n",
    "            summary=soup.find('div',{'class':\"carousel__component--carousel js-owl-carousel js-owl-default\"})\n",
    "            land_list=summary.findAll('div',{\"class\": \"carousel__item\"})       \n",
    "        except AttributeError:\n",
    "            pass\n",
    "    for land in land_list:\n",
    "        try:\n",
    "            # espero que cargue y se almacene la información\n",
    "            #sleep(random.uniform(1.0, 5.0))\n",
    "            Nprod.append(land.find('a',{'class':'thumb'}).get('title'))\n",
    "        except AttributeError:\n",
    "            Nprod.append(land.find('div',{'class':'carousel__item--name'}).text)\n",
    "        a=land.find('div',{'class':'priceContainer'})\n",
    "        try:\n",
    "            #sleep(random.uniform(1.0, 5.0))\n",
    "            POriginal.append(a.find('span',{'class':'sale-original-price'}).text)\n",
    "        except AttributeError:\n",
    "            try:\n",
    "             #   sleep(random.uniform(1.0, 5.0))\n",
    "                POriginal.append(a.find('span',{'class':'price'}).text)\n",
    "            except AttributeError:\n",
    "                POriginal.append(a.find('p',{'class':'price'}).text)\n",
    "        try:\n",
    "            #sleep(random.uniform(1.0, 5.0))\n",
    "            PRebaja.append(a.find('span',{'class':'price sale-price'}).text)\n",
    "        except AttributeError:\n",
    "            PRebaja.append('NA')\n",
    "        try:\n",
    "            #sleep(random.uniform(1.0, 5.0))\n",
    "            img_url=land_list[0].find('img',{'id':'prodDetailsImgZoom'}).get('src')\n",
    "        except AttributeError:\n",
    "            img_url=land_list[0].find('img',{'class':'item lazyOwl'}).get('src')\n",
    "        if not img_url:\n",
    "            continue\n",
    "        img_url = urljoin(newURL, img_url)\n",
    "        try:\n",
    "            sleep(random.uniform(4.0, 6.0))\n",
    "            pos = img_url.index(\"?\")\n",
    "            img_url = img_url[:pos]\n",
    "        except ValueError:\n",
    "            pass\n",
    "        imgurls.append(img_url)"
   ]
  },
  {
   "cell_type": "code",
   "execution_count": 25,
   "metadata": {},
   "outputs": [
    {
     "name": "stdout",
     "output_type": "stream",
     "text": [
      "21:34:19\n"
     ]
    }
   ],
   "source": [
    "#Compruebo el tiempo en que finalizó la extracción \n",
    "t = time.localtime()\n",
    "current_time = time.strftime(\"%H:%M:%S\", t)\n",
    "print(current_time)"
   ]
  },
  {
   "cell_type": "markdown",
   "metadata": {
    "id": "K4DZVdW2KPBI"
   },
   "source": [
    "Se guarda toda la información extraída (Nombre del producto, precio normal y precio de rebaja en caso de encontrarse registrado) en un nuevo dataframe."
   ]
  },
  {
   "cell_type": "code",
   "execution_count": 26,
   "metadata": {
    "id": "yclFCXC2KRBb"
   },
   "outputs": [],
   "source": [
    "dfNew=pd.DataFrame({'Nombre_Producto':Nprod,'Precio_Original':POriginal,'Precio_Rebaja':PRebaja},\n",
    "                columns=['Nombre_Producto','Precio_Original','Precio_Rebaja'])"
   ]
  },
  {
   "cell_type": "code",
   "execution_count": 27,
   "metadata": {},
   "outputs": [
    {
     "data": {
      "text/html": [
       "<div>\n",
       "<style scoped>\n",
       "    .dataframe tbody tr th:only-of-type {\n",
       "        vertical-align: middle;\n",
       "    }\n",
       "\n",
       "    .dataframe tbody tr th {\n",
       "        vertical-align: top;\n",
       "    }\n",
       "\n",
       "    .dataframe thead th {\n",
       "        text-align: right;\n",
       "    }\n",
       "</style>\n",
       "<table border=\"1\" class=\"dataframe\">\n",
       "  <thead>\n",
       "    <tr style=\"text-align: right;\">\n",
       "      <th></th>\n",
       "      <th>Nombre_Producto</th>\n",
       "      <th>Precio_Original</th>\n",
       "      <th>Precio_Rebaja</th>\n",
       "    </tr>\n",
       "  </thead>\n",
       "  <tbody>\n",
       "    <tr>\n",
       "      <th>0</th>\n",
       "      <td>Pantalla Samsung 58 Pulg 4K UHD LED Smart TV</td>\n",
       "      <td>$18,290.00</td>\n",
       "      <td>$12,490.00</td>\n",
       "    </tr>\n",
       "    <tr>\n",
       "      <th>1</th>\n",
       "      <td>Pantalla Samsung 50 Pulg 4K UHD LED Smart TV</td>\n",
       "      <td>$14,999.00</td>\n",
       "      <td>$10,690.00</td>\n",
       "    </tr>\n",
       "    <tr>\n",
       "      <th>2</th>\n",
       "      <td>Pantalla Samsung 55 Pulg 4K UHD LED Smart TV</td>\n",
       "      <td>$17,790.00</td>\n",
       "      <td>$11,790.00</td>\n",
       "    </tr>\n",
       "    <tr>\n",
       "      <th>3</th>\n",
       "      <td>Pantalla Vios 50 plg 4K UHD LED Smart TV</td>\n",
       "      <td>$10,299.00</td>\n",
       "      <td>$6,490.00</td>\n",
       "    </tr>\n",
       "    <tr>\n",
       "      <th>4</th>\n",
       "      <td>Pantalla Vios 65 plg UHD 4K LED Smart TV</td>\n",
       "      <td>$16,999.00</td>\n",
       "      <td>$11,490.00</td>\n",
       "    </tr>\n",
       "  </tbody>\n",
       "</table>\n",
       "</div>"
      ],
      "text/plain": [
       "                                Nombre_Producto Precio_Original Precio_Rebaja\n",
       "0  Pantalla Samsung 58 Pulg 4K UHD LED Smart TV      $18,290.00    $12,490.00\n",
       "1  Pantalla Samsung 50 Pulg 4K UHD LED Smart TV      $14,999.00    $10,690.00\n",
       "2  Pantalla Samsung 55 Pulg 4K UHD LED Smart TV      $17,790.00    $11,790.00\n",
       "3      Pantalla Vios 50 plg 4K UHD LED Smart TV      $10,299.00     $6,490.00\n",
       "4      Pantalla Vios 65 plg UHD 4K LED Smart TV      $16,999.00    $11,490.00"
      ]
     },
     "execution_count": 27,
     "metadata": {},
     "output_type": "execute_result"
    }
   ],
   "source": [
    "dfNew.head()"
   ]
  },
  {
   "cell_type": "code",
   "execution_count": 28,
   "metadata": {},
   "outputs": [
    {
     "data": {
      "text/plain": [
       "203"
      ]
     },
     "execution_count": 28,
     "metadata": {},
     "output_type": "execute_result"
    }
   ],
   "source": [
    "#Comprobamos cuántas filas se puedieron extraer con éxito\n",
    "len(dfNew)"
   ]
  },
  {
   "cell_type": "markdown",
   "metadata": {},
   "source": [
    "Se observa que dependiendo del useragent o las veces que se corra el script con/sin delays, los valores que se extraen van a difierir si el servidor bloquea al crawler. "
   ]
  },
  {
   "cell_type": "code",
   "execution_count": 29,
   "metadata": {},
   "outputs": [],
   "source": [
    "#GUI para exportar el dataframe a fichero CSV\n",
    "root= tk.Tk()\n",
    "\n",
    "canvas1 = tk.Canvas(root, width = 300, height = 300, bg = 'lightsteelblue2', relief = 'raised')\n",
    "canvas1.pack()\n",
    "\n",
    "def exportCSV ():\n",
    "    global df\n",
    "    \n",
    "    export_file_path = filedialog.asksaveasfilename(defaultextension='.csv')\n",
    "    dfNew.to_csv (export_file_path, index = False, header=True)\n",
    "\n",
    "saveAsButton_CSV = tk.Button(text='Exportar CSV', command=exportCSV, bg='green', fg='white', font=('helvetica', 12, 'bold'))\n",
    "canvas1.create_window(150, 150, window=saveAsButton_CSV)\n",
    "root.mainloop()"
   ]
  },
  {
   "cell_type": "markdown",
   "metadata": {
    "id": "KTz-OwVAKovb"
   },
   "source": [
    "\n",
    "Se define una función para realizar la correspondiente descarga\n",
    "del material audiovisual\n"
   ]
  },
  {
   "cell_type": "code",
   "execution_count": 30,
   "metadata": {
    "id": "twPxT5xuHpYG"
   },
   "outputs": [],
   "source": [
    "def download(url, pathname):\n",
    "    if not os.path.isdir(pathname):\n",
    "        os.makedirs(pathname)\n",
    "    response = requests.get(url, stream=True)\n",
    "    file_size = int(response.headers.get(\"Content-Length\", 0))\n",
    "    filename = os.path.join(pathname, url.split(\"/\")[-1])\n",
    "    progress = tqdm(response.iter_content(1024), f\"Downloading {filename}\", total=file_size, unit=\"B\", unit_scale=True, unit_divisor=1024)\n",
    "    with open(filename, \"wb\") as f:\n",
    "        for data in progress:\n",
    "            f.write(data)\n",
    "            progress.update(len(data))"
   ]
  },
  {
   "cell_type": "code",
   "execution_count": 31,
   "metadata": {},
   "outputs": [
    {
     "name": "stderr",
     "output_type": "stream",
     "text": [
      "Downloading C:/Users/David/Pictures/test\\8806090312892-A-300x300.jpg:   0%| | 1\n",
      "Downloading C:/Users/David/Pictures/test\\8806090312892-A-300x300.jpg:   0%| | 1\n",
      "Downloading C:/Users/David/Pictures/test\\8806090312892-A-300x300.jpg:   0%| | 1\n",
      "Downloading C:/Users/David/Pictures/test\\8806090312892-A-300x300.jpg:   0%| | 1\n",
      "Downloading C:/Users/David/Pictures/test\\8806090312892-A-300x300.jpg:   0%| | 1\n",
      "Downloading C:/Users/David/Pictures/test\\8806090312892-A-300x300.jpg:   0%| | 1\n",
      "Downloading C:/Users/David/Pictures/test\\8806090312892-A-300x300.jpg:   0%| | 1\n",
      "Downloading C:/Users/David/Pictures/test\\8806090312892-A-300x300.jpg:   0%| | 1\n",
      "Downloading C:/Users/David/Pictures/test\\8806090312892-A-300x300.jpg:   0%| | 1\n",
      "Downloading C:/Users/David/Pictures/test\\8806090312892-A-300x300.jpg:   0%| | 1\n",
      "Downloading C:/Users/David/Pictures/test\\8806090312892-A-300x300.jpg:   0%| | 1\n",
      "Downloading C:/Users/David/Pictures/test\\8806090312892-A-300x300.jpg:   0%| | 1\n",
      "Downloading C:/Users/David/Pictures/test\\8806090312892-A-300x300.jpg:   0%| | 1\n",
      "Downloading C:/Users/David/Pictures/test\\8806090312892-A-300x300.jpg:   0%| | 1\n",
      "Downloading C:/Users/David/Pictures/test\\8806090312892-A-300x300.jpg:   0%| | 1\n",
      "Downloading C:/Users/David/Pictures/test\\8806090312892-A-300x300.jpg:   0%| | 1\n",
      "Downloading C:/Users/David/Pictures/test\\8806090312892-A-300x300.jpg:   0%| | 1\n",
      "Downloading C:/Users/David/Pictures/test\\8806090312892-A-300x300.jpg:   0%| | 1\n",
      "Downloading C:/Users/David/Pictures/test\\8806090312892-A-300x300.jpg:   0%| | 1\n",
      "Downloading C:/Users/David/Pictures/test\\8806090312892-A-300x300.jpg:   0%| | 1\n",
      "Downloading C:/Users/David/Pictures/test\\Product-image-735029292616-VLD-330.jpg\n",
      "Downloading C:/Users/David/Pictures/test\\Product-image-735029292616-VLD-330.jpg\n",
      "Downloading C:/Users/David/Pictures/test\\Product-image-735029292616-VLD-330.jpg\n",
      "Downloading C:/Users/David/Pictures/test\\7501483102210-300x300.jpg:   0%| | 14.\n",
      "Downloading C:/Users/David/Pictures/test\\7501483102210-300x300.jpg:   0%| | 14.\n",
      "Downloading C:/Users/David/Pictures/test\\7501483102210-300x300.jpg:   0%| | 14.\n",
      "Downloading C:/Users/David/Pictures/test\\7501483102210-300x300.jpg:   0%| | 14.\n",
      "Downloading C:/Users/David/Pictures/test\\7501483102210-300x300.jpg:   0%| | 14.\n",
      "Downloading C:/Users/David/Pictures/test\\7501483102210-300x300.jpg:   0%| | 14.\n",
      "Downloading C:/Users/David/Pictures/test\\7501483102210-300x300.jpg:   0%| | 14.\n",
      "Downloading C:/Users/David/Pictures/test\\7501483102210-300x300.jpg:   0%| | 14.\n",
      "Downloading C:/Users/David/Pictures/test\\Product-image-7503022593213-330.jpg:  \n",
      "Downloading C:/Users/David/Pictures/test\\Product-image-7503022593213-330.jpg:  \n",
      "Downloading C:/Users/David/Pictures/test\\Product-image-7503022593213-330.jpg:  \n",
      "Downloading C:/Users/David/Pictures/test\\Product-image-7503022593213-330.jpg:  \n",
      "Downloading C:/Users/David/Pictures/test\\Product-image-7503022593213-330.jpg:  \n",
      "Downloading C:/Users/David/Pictures/test\\Product-image-8806088228983-330.jpg:  \n",
      "Downloading C:/Users/David/Pictures/test\\7500462428365-300x300.jpg:   0%| | 29.\n",
      "Downloading C:/Users/David/Pictures/test\\7500462428365-300x300.jpg:   0%| | 29.\n",
      "Downloading C:/Users/David/Pictures/test\\7500462428365-300x300.jpg:   0%| | 29.\n",
      "Downloading C:/Users/David/Pictures/test\\Product-image-817729011251-VSP-330.jpg\n",
      "Downloading C:/Users/David/Pictures/test\\Product-image-817729011251-VSP-330.jpg\n",
      "Downloading C:/Users/David/Pictures/test\\Product-image-817729011251-VSP-330.jpg\n",
      "Downloading C:/Users/David/Pictures/test\\Product-image-817729011251-VSP-330.jpg\n",
      "Downloading C:/Users/David/Pictures/test\\Product-image-817729011251-VSP-330.jpg\n",
      "Downloading C:/Users/David/Pictures/test\\Product-image-817729011251-VSP-330.jpg\n",
      "Downloading C:/Users/David/Pictures/test\\Product-image-817729011251-VSP-330.jpg\n",
      "Downloading C:/Users/David/Pictures/test\\Product-image-817729011251-VSP-330.jpg\n",
      "Downloading C:/Users/David/Pictures/test\\Product-image-817729011251-VSP-330.jpg\n",
      "Downloading C:/Users/David/Pictures/test\\Product-image-817729011251-VSP-330.jpg\n",
      "Downloading C:/Users/David/Pictures/test\\Product-image-817729011251-VSP-330.jpg\n",
      "Downloading C:/Users/David/Pictures/test\\Product-image-817729011251-VSP-330.jpg\n",
      "Downloading C:/Users/David/Pictures/test\\Product-image-817729011251-VSP-330.jpg\n",
      "Downloading C:/Users/David/Pictures/test\\Product-image-817729011251-VSP-330.jpg\n",
      "Downloading C:/Users/David/Pictures/test\\Product-image-817729011251-VSP-330.jpg\n",
      "Downloading C:/Users/David/Pictures/test\\Product-image-817729011251-VSP-330.jpg\n",
      "Downloading C:/Users/David/Pictures/test\\Product-image-817729011251-VSP-330.jpg\n",
      "Downloading C:/Users/David/Pictures/test\\Product-image-817729011251-VSP-330.jpg\n",
      "Downloading C:/Users/David/Pictures/test\\Product-image-817729011251-VSP-330.jpg\n",
      "Downloading C:/Users/David/Pictures/test\\Product-image-817729011251-VSP-330.jpg\n",
      "Downloading C:/Users/David/Pictures/test\\7506250921711-300x300.jpg:   0%| | 22.\n",
      "Downloading C:/Users/David/Pictures/test\\7506250921711-300x300.jpg:   0%| | 22.\n",
      "Downloading C:/Users/David/Pictures/test\\7506250921711-300x300.jpg:   0%| | 22.\n",
      "Downloading C:/Users/David/Pictures/test\\7506250921711-300x300.jpg:   0%| | 22.\n",
      "Downloading C:/Users/David/Pictures/test\\7506250921711-300x300.jpg:   0%| | 22.\n",
      "Downloading C:/Users/David/Pictures/test\\7506250921711-300x300.jpg:   0%| | 22.\n",
      "Downloading C:/Users/David/Pictures/test\\7506250921711-300x300.jpg:   0%| | 22.\n",
      "Downloading C:/Users/David/Pictures/test\\7506250921711-300x300.jpg:   0%| | 22.\n",
      "Downloading C:/Users/David/Pictures/test\\7506250921711-300x300.jpg:   0%| | 22.\n",
      "Downloading C:/Users/David/Pictures/test\\7506250921711-300x300.jpg:   0%| | 22.\n",
      "Downloading C:/Users/David/Pictures/test\\7506250921711-300x300.jpg:   0%| | 22.\n",
      "Downloading C:/Users/David/Pictures/test\\7506250921711-300x300.jpg:   0%| | 22.\n",
      "Downloading C:/Users/David/Pictures/test\\7506250921711-300x300.jpg:   0%| | 22.\n",
      "Downloading C:/Users/David/Pictures/test\\7506250921711-300x300.jpg:   0%| | 22.\n",
      "Downloading C:/Users/David/Pictures/test\\7506250921711-300x300.jpg:   0%| | 22.\n",
      "Downloading C:/Users/David/Pictures/test\\7506250921711-300x300.jpg:   0%| | 22.\n",
      "Downloading C:/Users/David/Pictures/test\\7506250921711-300x300.jpg:   0%| | 22.\n",
      "Downloading C:/Users/David/Pictures/test\\7506250921711-300x300.jpg:   0%| | 22.\n",
      "Downloading C:/Users/David/Pictures/test\\7506250921711-300x300.jpg:   0%| | 22.\n",
      "Downloading C:/Users/David/Pictures/test\\7506250921711-300x300.jpg:   0%| | 22.\n",
      "Downloading C:/Users/David/Pictures/test\\Product-image-884938323918-330.jpg:   \n",
      "Downloading C:/Users/David/Pictures/test\\Product-image-884938323918-330.jpg:   \n",
      "Downloading C:/Users/David/Pictures/test\\Product-image-884938323918-330.jpg:   \n",
      "Downloading C:/Users/David/Pictures/test\\Product-image-884938323918-330.jpg:   \n",
      "Downloading C:/Users/David/Pictures/test\\Product-image-884938323918-330.jpg:   \n",
      "Downloading C:/Users/David/Pictures/test\\Product-image-884938323918-330.jpg:   \n",
      "Downloading C:/Users/David/Pictures/test\\Product-image-884938323918-330.jpg:   \n",
      "Downloading C:/Users/David/Pictures/test\\Product-image-884938323918-330.jpg:   \n",
      "Downloading C:/Users/David/Pictures/test\\Product-image-884938323918-330.jpg:   \n",
      "Downloading C:/Users/David/Pictures/test\\Product-image-884938323918-330.jpg:   \n",
      "Downloading C:/Users/David/Pictures/test\\Product-image-884938323918-330.jpg:   \n",
      "Downloading C:/Users/David/Pictures/test\\Product-image-888462544443-VF-330.jpg:\n",
      "Downloading C:/Users/David/Pictures/test\\Product-image-888462544443-VF-330.jpg:\n",
      "Downloading C:/Users/David/Pictures/test\\Product-image-888462544443-VF-330.jpg:\n",
      "Downloading C:/Users/David/Pictures/test\\Product-image-888462544443-VF-330.jpg:\n",
      "Downloading C:/Users/David/Pictures/test\\Product-image-888462544443-VF-330.jpg:\n",
      "Downloading C:/Users/David/Pictures/test\\Product-image-888462544443-VF-330.jpg:\n",
      "Downloading C:/Users/David/Pictures/test\\Product-image-888462544443-VF-330.jpg:\n",
      "Downloading C:/Users/David/Pictures/test\\Product-image-888462544443-VF-330.jpg:\n",
      "Downloading C:/Users/David/Pictures/test\\Product-image-888462544443-VF-330.jpg:\n",
      "Downloading C:/Users/David/Pictures/test\\Product-image-888462544443-VF-330.jpg:\n",
      "Downloading C:/Users/David/Pictures/test\\Product-image-888462544443-VF-330.jpg:\n"
     ]
    },
    {
     "name": "stderr",
     "output_type": "stream",
     "text": [
      "Downloading C:/Users/David/Pictures/test\\793779058173-300x300.jpg:   0%| | 46.0\n",
      "Downloading C:/Users/David/Pictures/test\\793779058173-300x300.jpg:   0%| | 46.0\n",
      "Downloading C:/Users/David/Pictures/test\\793779058173-300x300.jpg:   0%| | 46.0\n",
      "Downloading C:/Users/David/Pictures/test\\793779058173-300x300.jpg:   0%| | 46.0\n",
      "Downloading C:/Users/David/Pictures/test\\793779058173-300x300.jpg:   0%| | 46.0\n",
      "Downloading C:/Users/David/Pictures/test\\793779058173-300x300.jpg:   0%| | 46.0\n",
      "Downloading C:/Users/David/Pictures/test\\793779058173-300x300.jpg:   0%| | 46.0\n",
      "Downloading C:/Users/David/Pictures/test\\793779058173-300x300.jpg:   0%| | 46.0\n",
      "Downloading C:/Users/David/Pictures/test\\793779058173-300x300.jpg:   0%| | 46.0\n",
      "Downloading C:/Users/David/Pictures/test\\793779058173-300x300.jpg:   0%| | 46.0\n",
      "Downloading C:/Users/David/Pictures/test\\793779058173-300x300.jpg:   0%| | 46.0\n",
      "Downloading C:/Users/David/Pictures/test\\793779058173-300x300.jpg:   0%| | 46.0\n",
      "Downloading C:/Users/David/Pictures/test\\793779058173-300x300.jpg:   0%| | 46.0\n",
      "Downloading C:/Users/David/Pictures/test\\4959112170643-300x300.jpg:   0%| | 61.\n",
      "Downloading C:/Users/David/Pictures/test\\4959112170643-300x300.jpg:   0%| | 61.\n",
      "Downloading C:/Users/David/Pictures/test\\4959112170643-300x300.jpg:   0%| | 61.\n",
      "Downloading C:/Users/David/Pictures/test\\4959112170643-300x300.jpg:   0%| | 61.\n",
      "Downloading C:/Users/David/Pictures/test\\4959112170643-300x300.jpg:   0%| | 61.\n",
      "Downloading C:/Users/David/Pictures/test\\4959112170643-300x300.jpg:   0%| | 61.\n",
      "Downloading C:/Users/David/Pictures/test\\818284325432-A-300x300.jpg:   0%| | 11\n",
      "Downloading C:/Users/David/Pictures/test\\818284325432-A-300x300.jpg:   0%| | 11\n",
      "Downloading C:/Users/David/Pictures/test\\818284325432-A-300x300.jpg:   0%| | 11\n",
      "Downloading C:/Users/David/Pictures/test\\818284325432-A-300x300.jpg:   0%| | 11\n",
      "Downloading C:/Users/David/Pictures/test\\818284325432-A-300x300.jpg:   0%| | 11\n",
      "Downloading C:/Users/David/Pictures/test\\818284325432-A-300x300.jpg:   0%| | 11\n",
      "Downloading C:/Users/David/Pictures/test\\818284325432-A-300x300.jpg:   0%| | 11\n",
      "Downloading C:/Users/David/Pictures/test\\784887179782-G-300x300.jpg:   0%| | 15\n",
      "Downloading C:/Users/David/Pictures/test\\784887179782-G-300x300.jpg:   0%| | 15\n",
      "Downloading C:/Users/David/Pictures/test\\784887179782-G-300x300.jpg:   0%| | 15\n",
      "Downloading C:/Users/David/Pictures/test\\784887179782-G-300x300.jpg:   0%| | 15\n",
      "Downloading C:/Users/David/Pictures/test\\784887179782-G-300x300.jpg:   0%| | 15\n",
      "Downloading C:/Users/David/Pictures/test\\784887179782-G-300x300.jpg:   0%| | 15\n",
      "Downloading C:/Users/David/Pictures/test\\784887179782-G-300x300.jpg:   0%| | 15\n",
      "Downloading C:/Users/David/Pictures/test\\784887179782-G-300x300.jpg:   0%| | 15\n",
      "Downloading C:/Users/David/Pictures/test\\784887179782-G-300x300.jpg:   0%| | 15\n",
      "Downloading C:/Users/David/Pictures/test\\784887179782-G-300x300.jpg:   0%| | 15\n",
      "Downloading C:/Users/David/Pictures/test\\784887179782-G-300x300.jpg:   0%| | 15\n",
      "Downloading C:/Users/David/Pictures/test\\784887179782-G-300x300.jpg:   0%| | 15\n",
      "Downloading C:/Users/David/Pictures/test\\784887179782-G-300x300.jpg:   0%| | 15\n",
      "Downloading C:/Users/David/Pictures/test\\784887179782-G-300x300.jpg:   0%| | 15\n",
      "Downloading C:/Users/David/Pictures/test\\784887179782-G-300x300.jpg:   0%| | 15\n",
      "Downloading C:/Users/David/Pictures/test\\784887179782-G-300x300.jpg:   0%| | 15\n",
      "Downloading C:/Users/David/Pictures/test\\784887179782-G-300x300.jpg:   0%| | 15\n",
      "Downloading C:/Users/David/Pictures/test\\784887179782-G-300x300.jpg:   0%| | 15\n",
      "Downloading C:/Users/David/Pictures/test\\784887179782-G-300x300.jpg:   0%| | 15\n",
      "Downloading C:/Users/David/Pictures/test\\784887179782-G-300x300.jpg:   0%| | 15\n",
      "Downloading C:/Users/David/Pictures/test\\609722093842-300x300.jpg:   0%| | 52.0\n",
      "Downloading C:/Users/David/Pictures/test\\609722093842-300x300.jpg:   0%| | 52.0\n",
      "Downloading C:/Users/David/Pictures/test\\609722093842-300x300.jpg:   0%| | 52.0\n",
      "Downloading C:/Users/David/Pictures/test\\609722093842-300x300.jpg:   0%| | 52.0\n",
      "Downloading C:/Users/David/Pictures/test\\609722093842-300x300.jpg:   0%| | 52.0\n",
      "Downloading C:/Users/David/Pictures/test\\609722093842-300x300.jpg:   0%| | 52.0\n",
      "Downloading C:/Users/David/Pictures/test\\609722093842-300x300.jpg:   0%| | 52.0\n",
      "Downloading C:/Users/David/Pictures/test\\609722093842-300x300.jpg:   0%| | 52.0\n",
      "Downloading C:/Users/David/Pictures/test\\609722093842-300x300.jpg:   0%| | 52.0\n",
      "Downloading C:/Users/David/Pictures/test\\609722093842-300x300.jpg:   0%| | 52.0\n",
      "Downloading C:/Users/David/Pictures/test\\609722093842-300x300.jpg:   0%| | 52.0\n",
      "Downloading C:/Users/David/Pictures/test\\609722093842-300x300.jpg:   0%| | 52.0\n",
      "Downloading C:/Users/David/Pictures/test\\609722093842-300x300.jpg:   0%| | 52.0\n",
      "Downloading C:/Users/David/Pictures/test\\609722093842-300x300.jpg:   0%| | 52.0\n",
      "Downloading C:/Users/David/Pictures/test\\609722093842-300x300.jpg:   0%| | 52.0\n",
      "Downloading C:/Users/David/Pictures/test\\609722093842-300x300.jpg:   0%| | 52.0\n",
      "Downloading C:/Users/David/Pictures/test\\609722093842-300x300.jpg:   0%| | 52.0\n",
      "Downloading C:/Users/David/Pictures/test\\609722093842-300x300.jpg:   0%| | 52.0\n",
      "Downloading C:/Users/David/Pictures/test\\609722093842-300x300.jpg:   0%| | 52.0\n",
      "Downloading C:/Users/David/Pictures/test\\609722093842-300x300.jpg:   0%| | 52.0\n",
      "Downloading C:/Users/David/Pictures/test\\696303067446-300x300.jpg:   0%| | 15.0\n",
      "Downloading C:/Users/David/Pictures/test\\696303067446-300x300.jpg:   0%| | 15.0\n",
      "Downloading C:/Users/David/Pictures/test\\696303067446-300x300.jpg:   0%| | 15.0\n",
      "Downloading C:/Users/David/Pictures/test\\696303067446-300x300.jpg:   0%| | 15.0\n",
      "Downloading C:/Users/David/Pictures/test\\696303067446-300x300.jpg:   0%| | 15.0\n",
      "Downloading C:/Users/David/Pictures/test\\696303067446-300x300.jpg:   0%| | 15.0\n",
      "Downloading C:/Users/David/Pictures/test\\696303067446-300x300.jpg:   0%| | 15.0\n",
      "Downloading C:/Users/David/Pictures/test\\696303067446-300x300.jpg:   0%| | 15.0\n",
      "Downloading C:/Users/David/Pictures/test\\696303067446-300x300.jpg:   0%| | 15.0\n",
      "Downloading C:/Users/David/Pictures/test\\696303067446-300x300.jpg:   0%| | 15.0\n",
      "Downloading C:/Users/David/Pictures/test\\696303067446-300x300.jpg:   0%| | 15.0\n",
      "Downloading C:/Users/David/Pictures/test\\696303067446-300x300.jpg:   0%| | 15.0\n",
      "Downloading C:/Users/David/Pictures/test\\696303067446-300x300.jpg:   0%| | 15.0\n",
      "Downloading C:/Users/David/Pictures/test\\696303067446-300x300.jpg:   0%| | 15.0\n",
      "Downloading C:/Users/David/Pictures/test\\696303067446-300x300.jpg:   0%| | 15.0\n",
      "Downloading C:/Users/David/Pictures/test\\662248915104-300x300.jpg:   0%| | 77.0\n",
      "Downloading C:/Users/David/Pictures/test\\662248915104-300x300.jpg:   0%| | 77.0\n",
      "Downloading C:/Users/David/Pictures/test\\662248915104-300x300.jpg:   0%| | 77.0\n",
      "Downloading C:/Users/David/Pictures/test\\662248915104-300x300.jpg:   0%| | 77.0\n",
      "Downloading C:/Users/David/Pictures/test\\662248915104-300x300.jpg:   0%| | 77.0\n",
      "Downloading C:/Users/David/Pictures/test\\662248915104-300x300.jpg:   0%| | 77.0\n",
      "Downloading C:/Users/David/Pictures/test\\662248915104-300x300.jpg:   0%| | 77.0\n",
      "Downloading C:/Users/David/Pictures/test\\662248915104-300x300.jpg:   0%| | 77.0\n",
      "Downloading C:/Users/David/Pictures/test\\662248915104-300x300.jpg:   0%| | 77.0\n",
      "Downloading C:/Users/David/Pictures/test\\662248915104-300x300.jpg:   0%| | 77.0\n",
      "Downloading C:/Users/David/Pictures/test\\662248915104-300x300.jpg:   0%| | 77.0\n",
      "Downloading C:/Users/David/Pictures/test\\662248915104-300x300.jpg:   0%| | 77.0\n",
      "Downloading C:/Users/David/Pictures/test\\662248915104-300x300.jpg:   0%| | 77.0\n",
      "Downloading C:/Users/David/Pictures/test\\662248915104-300x300.jpg:   0%| | 77.0\n",
      "Downloading C:/Users/David/Pictures/test\\662248915104-300x300.jpg:   0%| | 77.0\n",
      "Downloading C:/Users/David/Pictures/test\\662248915104-300x300.jpg:   0%| | 77.0\n",
      "Downloading C:/Users/David/Pictures/test\\662248915104-300x300.jpg:   0%| | 77.0\n",
      "Downloading C:/Users/David/Pictures/test\\662248915104-300x300.jpg:   0%| | 77.0\n",
      "Downloading C:/Users/David/Pictures/test\\662248915104-300x300.jpg:   0%| | 77.0\n",
      "Downloading C:/Users/David/Pictures/test\\662248915104-300x300.jpg:   0%| | 77.0\n"
     ]
    }
   ],
   "source": [
    "#Para descargar el contenido audiovisual se debe ingresar una ruta de destino local\n",
    "\n",
    "path = 'C:/Users/David/Pictures/test'\n",
    "\n",
    "for img in imgurls:\n",
    "    try:\n",
    "        download(img, path)\n",
    "        # C:\\Alexandra Gomez\\Personal\\Máster\\Tipología y ciclo de vidas de los datos\\Práctica Web Scraping\\Imagenes')\n",
    "    except:\n",
    "        pass"
   ]
  },
  {
   "cell_type": "code",
   "execution_count": 32,
   "metadata": {
    "id": "h0-8R4foIozu"
   },
   "outputs": [
    {
     "data": {
      "text/plain": [
       "['https://www.soriana.com/medias/sys_master/images/images/he1/h31/9085902258206/8806090312892-A-300x300.jpg',\n",
       " 'https://www.soriana.com/medias/sys_master/images/images/he1/h31/9085902258206/8806090312892-A-300x300.jpg',\n",
       " 'https://www.soriana.com/medias/sys_master/images/images/he1/h31/9085902258206/8806090312892-A-300x300.jpg',\n",
       " 'https://www.soriana.com/medias/sys_master/images/images/he1/h31/9085902258206/8806090312892-A-300x300.jpg',\n",
       " 'https://www.soriana.com/medias/sys_master/images/images/he1/h31/9085902258206/8806090312892-A-300x300.jpg',\n",
       " 'https://www.soriana.com/medias/sys_master/images/images/he1/h31/9085902258206/8806090312892-A-300x300.jpg',\n",
       " 'https://www.soriana.com/medias/sys_master/images/images/he1/h31/9085902258206/8806090312892-A-300x300.jpg',\n",
       " 'https://www.soriana.com/medias/sys_master/images/images/he1/h31/9085902258206/8806090312892-A-300x300.jpg',\n",
       " 'https://www.soriana.com/medias/sys_master/images/images/he1/h31/9085902258206/8806090312892-A-300x300.jpg',\n",
       " 'https://www.soriana.com/medias/sys_master/images/images/he1/h31/9085902258206/8806090312892-A-300x300.jpg',\n",
       " 'https://www.soriana.com/medias/sys_master/images/images/he1/h31/9085902258206/8806090312892-A-300x300.jpg',\n",
       " 'https://www.soriana.com/medias/sys_master/images/images/he1/h31/9085902258206/8806090312892-A-300x300.jpg',\n",
       " 'https://www.soriana.com/medias/sys_master/images/images/he1/h31/9085902258206/8806090312892-A-300x300.jpg',\n",
       " 'https://www.soriana.com/medias/sys_master/images/images/he1/h31/9085902258206/8806090312892-A-300x300.jpg',\n",
       " 'https://www.soriana.com/medias/sys_master/images/images/he1/h31/9085902258206/8806090312892-A-300x300.jpg',\n",
       " 'https://www.soriana.com/medias/sys_master/images/images/he1/h31/9085902258206/8806090312892-A-300x300.jpg',\n",
       " 'https://www.soriana.com/medias/sys_master/images/images/he1/h31/9085902258206/8806090312892-A-300x300.jpg',\n",
       " 'https://www.soriana.com/medias/sys_master/images/images/he1/h31/9085902258206/8806090312892-A-300x300.jpg',\n",
       " 'https://www.soriana.com/medias/sys_master/images/images/he1/h31/9085902258206/8806090312892-A-300x300.jpg',\n",
       " 'https://www.soriana.com/medias/sys_master/images/images/he1/h31/9085902258206/8806090312892-A-300x300.jpg',\n",
       " 'https://www.soriana.com/medias/sys_master/images/images/h31/hf1/8797234003998/Product-image-735029292616-VLD-330.jpg',\n",
       " 'https://www.soriana.com/medias/sys_master/images/images/h31/hf1/8797234003998/Product-image-735029292616-VLD-330.jpg',\n",
       " 'https://www.soriana.com/medias/sys_master/images/images/h31/hf1/8797234003998/Product-image-735029292616-VLD-330.jpg',\n",
       " 'https://www.soriana.com/medias/sys_master/images/images/h96/h56/9017365463070/7501483102210-300x300.jpg',\n",
       " 'https://www.soriana.com/medias/sys_master/images/images/h96/h56/9017365463070/7501483102210-300x300.jpg',\n",
       " 'https://www.soriana.com/medias/sys_master/images/images/h96/h56/9017365463070/7501483102210-300x300.jpg',\n",
       " 'https://www.soriana.com/medias/sys_master/images/images/h96/h56/9017365463070/7501483102210-300x300.jpg',\n",
       " 'https://www.soriana.com/medias/sys_master/images/images/h96/h56/9017365463070/7501483102210-300x300.jpg',\n",
       " 'https://www.soriana.com/medias/sys_master/images/images/h96/h56/9017365463070/7501483102210-300x300.jpg',\n",
       " 'https://www.soriana.com/medias/sys_master/images/images/h96/h56/9017365463070/7501483102210-300x300.jpg',\n",
       " 'https://www.soriana.com/medias/sys_master/images/images/h96/h56/9017365463070/7501483102210-300x300.jpg',\n",
       " 'https://www.soriana.com/medias/sys_master/images/images/h88/h75/8798914576414/Product-image-7503022593213-330.jpg',\n",
       " 'https://www.soriana.com/medias/sys_master/images/images/h88/h75/8798914576414/Product-image-7503022593213-330.jpg',\n",
       " 'https://www.soriana.com/medias/sys_master/images/images/h88/h75/8798914576414/Product-image-7503022593213-330.jpg',\n",
       " 'https://www.soriana.com/medias/sys_master/images/images/h88/h75/8798914576414/Product-image-7503022593213-330.jpg',\n",
       " 'https://www.soriana.com/medias/sys_master/images/images/h88/h75/8798914576414/Product-image-7503022593213-330.jpg',\n",
       " 'https://www.soriana.com/medias/sys_master/images/images/h91/h05/8798820499486/Product-image-8806088228983-330.jpg',\n",
       " 'https://www.soriana.com/medias/sys_master/images/images/h39/h00/8903170883614/7500462428365-300x300.jpg',\n",
       " 'https://www.soriana.com/medias/sys_master/images/images/h39/h00/8903170883614/7500462428365-300x300.jpg',\n",
       " 'https://www.soriana.com/medias/sys_master/images/images/h39/h00/8903170883614/7500462428365-300x300.jpg',\n",
       " 'https://www.soriana.com/medias/sys_master/images/images/h8a/h85/8797881434142/Product-image-817729011251-VSP-330.jpg',\n",
       " 'https://www.soriana.com/medias/sys_master/images/images/h8a/h85/8797881434142/Product-image-817729011251-VSP-330.jpg',\n",
       " 'https://www.soriana.com/medias/sys_master/images/images/h8a/h85/8797881434142/Product-image-817729011251-VSP-330.jpg',\n",
       " 'https://www.soriana.com/medias/sys_master/images/images/h8a/h85/8797881434142/Product-image-817729011251-VSP-330.jpg',\n",
       " 'https://www.soriana.com/medias/sys_master/images/images/h8a/h85/8797881434142/Product-image-817729011251-VSP-330.jpg',\n",
       " 'https://www.soriana.com/medias/sys_master/images/images/h8a/h85/8797881434142/Product-image-817729011251-VSP-330.jpg',\n",
       " 'https://www.soriana.com/medias/sys_master/images/images/h8a/h85/8797881434142/Product-image-817729011251-VSP-330.jpg',\n",
       " 'https://www.soriana.com/medias/sys_master/images/images/h8a/h85/8797881434142/Product-image-817729011251-VSP-330.jpg',\n",
       " 'https://www.soriana.com/medias/sys_master/images/images/h8a/h85/8797881434142/Product-image-817729011251-VSP-330.jpg',\n",
       " 'https://www.soriana.com/medias/sys_master/images/images/h8a/h85/8797881434142/Product-image-817729011251-VSP-330.jpg',\n",
       " 'https://www.soriana.com/medias/sys_master/images/images/h8a/h85/8797881434142/Product-image-817729011251-VSP-330.jpg',\n",
       " 'https://www.soriana.com/medias/sys_master/images/images/h8a/h85/8797881434142/Product-image-817729011251-VSP-330.jpg',\n",
       " 'https://www.soriana.com/medias/sys_master/images/images/h8a/h85/8797881434142/Product-image-817729011251-VSP-330.jpg',\n",
       " 'https://www.soriana.com/medias/sys_master/images/images/h8a/h85/8797881434142/Product-image-817729011251-VSP-330.jpg',\n",
       " 'https://www.soriana.com/medias/sys_master/images/images/h8a/h85/8797881434142/Product-image-817729011251-VSP-330.jpg',\n",
       " 'https://www.soriana.com/medias/sys_master/images/images/h8a/h85/8797881434142/Product-image-817729011251-VSP-330.jpg',\n",
       " 'https://www.soriana.com/medias/sys_master/images/images/h8a/h85/8797881434142/Product-image-817729011251-VSP-330.jpg',\n",
       " 'https://www.soriana.com/medias/sys_master/images/images/h8a/h85/8797881434142/Product-image-817729011251-VSP-330.jpg',\n",
       " 'https://www.soriana.com/medias/sys_master/images/images/h8a/h85/8797881434142/Product-image-817729011251-VSP-330.jpg',\n",
       " 'https://www.soriana.com/medias/sys_master/images/images/h8a/h85/8797881434142/Product-image-817729011251-VSP-330.jpg',\n",
       " 'https://www.soriana.com/medias/sys_master/images/images/h23/hb9/9017439125534/7506250921711-300x300.jpg',\n",
       " 'https://www.soriana.com/medias/sys_master/images/images/h23/hb9/9017439125534/7506250921711-300x300.jpg',\n",
       " 'https://www.soriana.com/medias/sys_master/images/images/h23/hb9/9017439125534/7506250921711-300x300.jpg',\n",
       " 'https://www.soriana.com/medias/sys_master/images/images/h23/hb9/9017439125534/7506250921711-300x300.jpg',\n",
       " 'https://www.soriana.com/medias/sys_master/images/images/h23/hb9/9017439125534/7506250921711-300x300.jpg',\n",
       " 'https://www.soriana.com/medias/sys_master/images/images/h23/hb9/9017439125534/7506250921711-300x300.jpg',\n",
       " 'https://www.soriana.com/medias/sys_master/images/images/h23/hb9/9017439125534/7506250921711-300x300.jpg',\n",
       " 'https://www.soriana.com/medias/sys_master/images/images/h23/hb9/9017439125534/7506250921711-300x300.jpg',\n",
       " 'https://www.soriana.com/medias/sys_master/images/images/h23/hb9/9017439125534/7506250921711-300x300.jpg',\n",
       " 'https://www.soriana.com/medias/sys_master/images/images/h23/hb9/9017439125534/7506250921711-300x300.jpg',\n",
       " 'https://www.soriana.com/medias/sys_master/images/images/h23/hb9/9017439125534/7506250921711-300x300.jpg',\n",
       " 'https://www.soriana.com/medias/sys_master/images/images/h23/hb9/9017439125534/7506250921711-300x300.jpg',\n",
       " 'https://www.soriana.com/medias/sys_master/images/images/h23/hb9/9017439125534/7506250921711-300x300.jpg',\n",
       " 'https://www.soriana.com/medias/sys_master/images/images/h23/hb9/9017439125534/7506250921711-300x300.jpg',\n",
       " 'https://www.soriana.com/medias/sys_master/images/images/h23/hb9/9017439125534/7506250921711-300x300.jpg',\n",
       " 'https://www.soriana.com/medias/sys_master/images/images/h23/hb9/9017439125534/7506250921711-300x300.jpg',\n",
       " 'https://www.soriana.com/medias/sys_master/images/images/h23/hb9/9017439125534/7506250921711-300x300.jpg',\n",
       " 'https://www.soriana.com/medias/sys_master/images/images/h23/hb9/9017439125534/7506250921711-300x300.jpg',\n",
       " 'https://www.soriana.com/medias/sys_master/images/images/h23/hb9/9017439125534/7506250921711-300x300.jpg',\n",
       " 'https://www.soriana.com/medias/sys_master/images/images/h23/hb9/9017439125534/7506250921711-300x300.jpg',\n",
       " 'https://www.soriana.com/medias/sys_master/images/images/h35/h20/8798212882462/Product-image-884938323918-330.jpg',\n",
       " 'https://www.soriana.com/medias/sys_master/images/images/h35/h20/8798212882462/Product-image-884938323918-330.jpg',\n",
       " 'https://www.soriana.com/medias/sys_master/images/images/h35/h20/8798212882462/Product-image-884938323918-330.jpg',\n",
       " 'https://www.soriana.com/medias/sys_master/images/images/h35/h20/8798212882462/Product-image-884938323918-330.jpg',\n",
       " 'https://www.soriana.com/medias/sys_master/images/images/h35/h20/8798212882462/Product-image-884938323918-330.jpg',\n",
       " 'https://www.soriana.com/medias/sys_master/images/images/h35/h20/8798212882462/Product-image-884938323918-330.jpg',\n",
       " 'https://www.soriana.com/medias/sys_master/images/images/h35/h20/8798212882462/Product-image-884938323918-330.jpg',\n",
       " 'https://www.soriana.com/medias/sys_master/images/images/h35/h20/8798212882462/Product-image-884938323918-330.jpg',\n",
       " 'https://www.soriana.com/medias/sys_master/images/images/h35/h20/8798212882462/Product-image-884938323918-330.jpg',\n",
       " 'https://www.soriana.com/medias/sys_master/images/images/h35/h20/8798212882462/Product-image-884938323918-330.jpg',\n",
       " 'https://www.soriana.com/medias/sys_master/images/images/h35/h20/8798212882462/Product-image-884938323918-330.jpg',\n",
       " 'https://www.soriana.com/medias/sys_master/images/images/hf0/h43/8799529631774/Product-image-888462544443-VF-330.jpg',\n",
       " 'https://www.soriana.com/medias/sys_master/images/images/hf0/h43/8799529631774/Product-image-888462544443-VF-330.jpg',\n",
       " 'https://www.soriana.com/medias/sys_master/images/images/hf0/h43/8799529631774/Product-image-888462544443-VF-330.jpg',\n",
       " 'https://www.soriana.com/medias/sys_master/images/images/hf0/h43/8799529631774/Product-image-888462544443-VF-330.jpg',\n",
       " 'https://www.soriana.com/medias/sys_master/images/images/hf0/h43/8799529631774/Product-image-888462544443-VF-330.jpg',\n",
       " 'https://www.soriana.com/medias/sys_master/images/images/hf0/h43/8799529631774/Product-image-888462544443-VF-330.jpg',\n",
       " 'https://www.soriana.com/medias/sys_master/images/images/hf0/h43/8799529631774/Product-image-888462544443-VF-330.jpg',\n",
       " 'https://www.soriana.com/medias/sys_master/images/images/hf0/h43/8799529631774/Product-image-888462544443-VF-330.jpg',\n",
       " 'https://www.soriana.com/medias/sys_master/images/images/hf0/h43/8799529631774/Product-image-888462544443-VF-330.jpg',\n",
       " 'https://www.soriana.com/medias/sys_master/images/images/hf0/h43/8799529631774/Product-image-888462544443-VF-330.jpg',\n",
       " 'https://www.soriana.com/medias/sys_master/images/images/hf0/h43/8799529631774/Product-image-888462544443-VF-330.jpg',\n",
       " 'https://www.soriana.com/medias/sys_master/images/images/haa/hc5/8839215054878/793779058173-300x300.jpg',\n",
       " 'https://www.soriana.com/medias/sys_master/images/images/haa/hc5/8839215054878/793779058173-300x300.jpg',\n",
       " 'https://www.soriana.com/medias/sys_master/images/images/haa/hc5/8839215054878/793779058173-300x300.jpg',\n",
       " 'https://www.soriana.com/medias/sys_master/images/images/haa/hc5/8839215054878/793779058173-300x300.jpg',\n",
       " 'https://www.soriana.com/medias/sys_master/images/images/haa/hc5/8839215054878/793779058173-300x300.jpg',\n",
       " 'https://www.soriana.com/medias/sys_master/images/images/haa/hc5/8839215054878/793779058173-300x300.jpg',\n",
       " 'https://www.soriana.com/medias/sys_master/images/images/haa/hc5/8839215054878/793779058173-300x300.jpg',\n",
       " 'https://www.soriana.com/medias/sys_master/images/images/haa/hc5/8839215054878/793779058173-300x300.jpg',\n",
       " 'https://www.soriana.com/medias/sys_master/images/images/haa/hc5/8839215054878/793779058173-300x300.jpg',\n",
       " 'https://www.soriana.com/medias/sys_master/images/images/haa/hc5/8839215054878/793779058173-300x300.jpg',\n",
       " 'https://www.soriana.com/medias/sys_master/images/images/haa/hc5/8839215054878/793779058173-300x300.jpg',\n",
       " 'https://www.soriana.com/medias/sys_master/images/images/haa/hc5/8839215054878/793779058173-300x300.jpg',\n",
       " 'https://www.soriana.com/medias/sys_master/images/images/haa/hc5/8839215054878/793779058173-300x300.jpg',\n",
       " 'https://www.soriana.com/medias/sys_master/images/images/h1f/hdd/8839220953118/4959112170643-300x300.jpg',\n",
       " 'https://www.soriana.com/medias/sys_master/images/images/h1f/hdd/8839220953118/4959112170643-300x300.jpg',\n",
       " 'https://www.soriana.com/medias/sys_master/images/images/h1f/hdd/8839220953118/4959112170643-300x300.jpg',\n",
       " 'https://www.soriana.com/medias/sys_master/images/images/h1f/hdd/8839220953118/4959112170643-300x300.jpg',\n",
       " 'https://www.soriana.com/medias/sys_master/images/images/h1f/hdd/8839220953118/4959112170643-300x300.jpg',\n",
       " 'https://www.soriana.com/medias/sys_master/images/images/h1f/hdd/8839220953118/4959112170643-300x300.jpg',\n",
       " 'https://www.soriana.com/medias/sys_master/images/images/hf3/h23/9216693600286/818284325432-A-300x300.jpg',\n",
       " 'https://www.soriana.com/medias/sys_master/images/images/hf3/h23/9216693600286/818284325432-A-300x300.jpg',\n",
       " 'https://www.soriana.com/medias/sys_master/images/images/hf3/h23/9216693600286/818284325432-A-300x300.jpg',\n",
       " 'https://www.soriana.com/medias/sys_master/images/images/hf3/h23/9216693600286/818284325432-A-300x300.jpg',\n",
       " 'https://www.soriana.com/medias/sys_master/images/images/hf3/h23/9216693600286/818284325432-A-300x300.jpg',\n",
       " 'https://www.soriana.com/medias/sys_master/images/images/hf3/h23/9216693600286/818284325432-A-300x300.jpg',\n",
       " 'https://www.soriana.com/medias/sys_master/images/images/hf3/h23/9216693600286/818284325432-A-300x300.jpg',\n",
       " 'https://www.soriana.com/medias/sys_master/images/images/hf7/h47/8961736114206/784887179782-G-300x300.jpg',\n",
       " 'https://www.soriana.com/medias/sys_master/images/images/hf7/h47/8961736114206/784887179782-G-300x300.jpg',\n",
       " 'https://www.soriana.com/medias/sys_master/images/images/hf7/h47/8961736114206/784887179782-G-300x300.jpg',\n",
       " 'https://www.soriana.com/medias/sys_master/images/images/hf7/h47/8961736114206/784887179782-G-300x300.jpg',\n",
       " 'https://www.soriana.com/medias/sys_master/images/images/hf7/h47/8961736114206/784887179782-G-300x300.jpg',\n",
       " 'https://www.soriana.com/medias/sys_master/images/images/hf7/h47/8961736114206/784887179782-G-300x300.jpg',\n",
       " 'https://www.soriana.com/medias/sys_master/images/images/hf7/h47/8961736114206/784887179782-G-300x300.jpg',\n",
       " 'https://www.soriana.com/medias/sys_master/images/images/hf7/h47/8961736114206/784887179782-G-300x300.jpg',\n",
       " 'https://www.soriana.com/medias/sys_master/images/images/hf7/h47/8961736114206/784887179782-G-300x300.jpg',\n",
       " 'https://www.soriana.com/medias/sys_master/images/images/hf7/h47/8961736114206/784887179782-G-300x300.jpg',\n",
       " 'https://www.soriana.com/medias/sys_master/images/images/hf7/h47/8961736114206/784887179782-G-300x300.jpg',\n",
       " 'https://www.soriana.com/medias/sys_master/images/images/hf7/h47/8961736114206/784887179782-G-300x300.jpg',\n",
       " 'https://www.soriana.com/medias/sys_master/images/images/hf7/h47/8961736114206/784887179782-G-300x300.jpg',\n",
       " 'https://www.soriana.com/medias/sys_master/images/images/hf7/h47/8961736114206/784887179782-G-300x300.jpg',\n",
       " 'https://www.soriana.com/medias/sys_master/images/images/hf7/h47/8961736114206/784887179782-G-300x300.jpg',\n",
       " 'https://www.soriana.com/medias/sys_master/images/images/hf7/h47/8961736114206/784887179782-G-300x300.jpg',\n",
       " 'https://www.soriana.com/medias/sys_master/images/images/hf7/h47/8961736114206/784887179782-G-300x300.jpg',\n",
       " 'https://www.soriana.com/medias/sys_master/images/images/hf7/h47/8961736114206/784887179782-G-300x300.jpg',\n",
       " 'https://www.soriana.com/medias/sys_master/images/images/hf7/h47/8961736114206/784887179782-G-300x300.jpg',\n",
       " 'https://www.soriana.com/medias/sys_master/images/images/hf7/h47/8961736114206/784887179782-G-300x300.jpg',\n",
       " 'https://www.soriana.com/medias/sys_master/images/images/hb9/h61/8839194509342/609722093842-300x300.jpg',\n",
       " 'https://www.soriana.com/medias/sys_master/images/images/hb9/h61/8839194509342/609722093842-300x300.jpg',\n",
       " 'https://www.soriana.com/medias/sys_master/images/images/hb9/h61/8839194509342/609722093842-300x300.jpg',\n",
       " 'https://www.soriana.com/medias/sys_master/images/images/hb9/h61/8839194509342/609722093842-300x300.jpg',\n",
       " 'https://www.soriana.com/medias/sys_master/images/images/hb9/h61/8839194509342/609722093842-300x300.jpg',\n",
       " 'https://www.soriana.com/medias/sys_master/images/images/hb9/h61/8839194509342/609722093842-300x300.jpg',\n",
       " 'https://www.soriana.com/medias/sys_master/images/images/hb9/h61/8839194509342/609722093842-300x300.jpg',\n",
       " 'https://www.soriana.com/medias/sys_master/images/images/hb9/h61/8839194509342/609722093842-300x300.jpg',\n",
       " 'https://www.soriana.com/medias/sys_master/images/images/hb9/h61/8839194509342/609722093842-300x300.jpg',\n",
       " 'https://www.soriana.com/medias/sys_master/images/images/hb9/h61/8839194509342/609722093842-300x300.jpg',\n",
       " 'https://www.soriana.com/medias/sys_master/images/images/hb9/h61/8839194509342/609722093842-300x300.jpg',\n",
       " 'https://www.soriana.com/medias/sys_master/images/images/hb9/h61/8839194509342/609722093842-300x300.jpg',\n",
       " 'https://www.soriana.com/medias/sys_master/images/images/hb9/h61/8839194509342/609722093842-300x300.jpg',\n",
       " 'https://www.soriana.com/medias/sys_master/images/images/hb9/h61/8839194509342/609722093842-300x300.jpg',\n",
       " 'https://www.soriana.com/medias/sys_master/images/images/hb9/h61/8839194509342/609722093842-300x300.jpg',\n",
       " 'https://www.soriana.com/medias/sys_master/images/images/hb9/h61/8839194509342/609722093842-300x300.jpg',\n",
       " 'https://www.soriana.com/medias/sys_master/images/images/hb9/h61/8839194509342/609722093842-300x300.jpg',\n",
       " 'https://www.soriana.com/medias/sys_master/images/images/hb9/h61/8839194509342/609722093842-300x300.jpg',\n",
       " 'https://www.soriana.com/medias/sys_master/images/images/hb9/h61/8839194509342/609722093842-300x300.jpg',\n",
       " 'https://www.soriana.com/medias/sys_master/images/images/hb9/h61/8839194509342/609722093842-300x300.jpg',\n",
       " 'https://www.soriana.com/medias/sys_master/images/images/h37/hed/8939670437918/696303067446-300x300.jpg',\n",
       " 'https://www.soriana.com/medias/sys_master/images/images/h37/hed/8939670437918/696303067446-300x300.jpg',\n",
       " 'https://www.soriana.com/medias/sys_master/images/images/h37/hed/8939670437918/696303067446-300x300.jpg',\n",
       " 'https://www.soriana.com/medias/sys_master/images/images/h37/hed/8939670437918/696303067446-300x300.jpg',\n",
       " 'https://www.soriana.com/medias/sys_master/images/images/h37/hed/8939670437918/696303067446-300x300.jpg',\n",
       " 'https://www.soriana.com/medias/sys_master/images/images/h37/hed/8939670437918/696303067446-300x300.jpg',\n",
       " 'https://www.soriana.com/medias/sys_master/images/images/h37/hed/8939670437918/696303067446-300x300.jpg',\n",
       " 'https://www.soriana.com/medias/sys_master/images/images/h37/hed/8939670437918/696303067446-300x300.jpg',\n",
       " 'https://www.soriana.com/medias/sys_master/images/images/h37/hed/8939670437918/696303067446-300x300.jpg',\n",
       " 'https://www.soriana.com/medias/sys_master/images/images/h37/hed/8939670437918/696303067446-300x300.jpg',\n",
       " 'https://www.soriana.com/medias/sys_master/images/images/h37/hed/8939670437918/696303067446-300x300.jpg',\n",
       " 'https://www.soriana.com/medias/sys_master/images/images/h37/hed/8939670437918/696303067446-300x300.jpg',\n",
       " 'https://www.soriana.com/medias/sys_master/images/images/h37/hed/8939670437918/696303067446-300x300.jpg',\n",
       " 'https://www.soriana.com/medias/sys_master/images/images/h37/hed/8939670437918/696303067446-300x300.jpg',\n",
       " 'https://www.soriana.com/medias/sys_master/images/images/h37/hed/8939670437918/696303067446-300x300.jpg',\n",
       " 'https://www.soriana.com/medias/sys_master/images/images/h31/hcd/8924159475742/662248915104-300x300.jpg',\n",
       " 'https://www.soriana.com/medias/sys_master/images/images/h31/hcd/8924159475742/662248915104-300x300.jpg',\n",
       " 'https://www.soriana.com/medias/sys_master/images/images/h31/hcd/8924159475742/662248915104-300x300.jpg',\n",
       " 'https://www.soriana.com/medias/sys_master/images/images/h31/hcd/8924159475742/662248915104-300x300.jpg',\n",
       " 'https://www.soriana.com/medias/sys_master/images/images/h31/hcd/8924159475742/662248915104-300x300.jpg',\n",
       " 'https://www.soriana.com/medias/sys_master/images/images/h31/hcd/8924159475742/662248915104-300x300.jpg',\n",
       " 'https://www.soriana.com/medias/sys_master/images/images/h31/hcd/8924159475742/662248915104-300x300.jpg',\n",
       " 'https://www.soriana.com/medias/sys_master/images/images/h31/hcd/8924159475742/662248915104-300x300.jpg',\n",
       " 'https://www.soriana.com/medias/sys_master/images/images/h31/hcd/8924159475742/662248915104-300x300.jpg',\n",
       " 'https://www.soriana.com/medias/sys_master/images/images/h31/hcd/8924159475742/662248915104-300x300.jpg',\n",
       " 'https://www.soriana.com/medias/sys_master/images/images/h31/hcd/8924159475742/662248915104-300x300.jpg',\n",
       " 'https://www.soriana.com/medias/sys_master/images/images/h31/hcd/8924159475742/662248915104-300x300.jpg',\n",
       " 'https://www.soriana.com/medias/sys_master/images/images/h31/hcd/8924159475742/662248915104-300x300.jpg',\n",
       " 'https://www.soriana.com/medias/sys_master/images/images/h31/hcd/8924159475742/662248915104-300x300.jpg',\n",
       " 'https://www.soriana.com/medias/sys_master/images/images/h31/hcd/8924159475742/662248915104-300x300.jpg',\n",
       " 'https://www.soriana.com/medias/sys_master/images/images/h31/hcd/8924159475742/662248915104-300x300.jpg',\n",
       " 'https://www.soriana.com/medias/sys_master/images/images/h31/hcd/8924159475742/662248915104-300x300.jpg',\n",
       " 'https://www.soriana.com/medias/sys_master/images/images/h31/hcd/8924159475742/662248915104-300x300.jpg',\n",
       " 'https://www.soriana.com/medias/sys_master/images/images/h31/hcd/8924159475742/662248915104-300x300.jpg',\n",
       " 'https://www.soriana.com/medias/sys_master/images/images/h31/hcd/8924159475742/662248915104-300x300.jpg']"
      ]
     },
     "execution_count": 32,
     "metadata": {},
     "output_type": "execute_result"
    }
   ],
   "source": [
    "imgurls"
   ]
  },
  {
   "cell_type": "code",
   "execution_count": null,
   "metadata": {},
   "outputs": [],
   "source": []
  }
 ],
 "metadata": {
  "colab": {
   "name": "codigo.ipynb",
   "provenance": []
  },
  "kernelspec": {
   "display_name": "Python 3",
   "language": "python",
   "name": "python3"
  },
  "language_info": {
   "codemirror_mode": {
    "name": "ipython",
    "version": 3
   },
   "file_extension": ".py",
   "mimetype": "text/x-python",
   "name": "python",
   "nbconvert_exporter": "python",
   "pygments_lexer": "ipython3",
   "version": "3.7.7"
  }
 },
 "nbformat": 4,
 "nbformat_minor": 1
}
